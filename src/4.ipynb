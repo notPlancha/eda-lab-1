{
 "cells": [
  {
   "cell_type": "markdown",
   "metadata": {},
   "source": [
    "# Dimensional analysis\n",
    "\n",
    "The nearest neighbor approach:\n",
    "Similarly as in example 2.8, study the following curve:\n",
    "\n",
    "\n",
    "\n",
    "$$\n",
    "x_1 = \\frac{t \\cos t}{1 + t^2}, \\quad x_2 = \\frac{t \\sin t}{1 + t^2}, \\quad x_3 = t, \\quad -2\\pi \\leq t \\leq 2\\pi\n",
    "$$"
   ]
  },
  {
   "cell_type": "code",
   "execution_count": 1,
   "metadata": {},
   "outputs": [
    {
     "data": {
      "application/vnd.microsoft.datawrangler.viewer.v0+json": {
       "columns": [
        {
         "name": "index",
         "rawType": "int64",
         "type": "integer"
        },
        {
         "name": "x",
         "rawType": "float64",
         "type": "float"
        },
        {
         "name": "y",
         "rawType": "float64",
         "type": "float"
        },
        {
         "name": "z",
         "rawType": "float64",
         "type": "float"
        }
       ],
       "conversionMethod": "pd.DataFrame",
       "ref": "e73cc4b2-ada8-4ed1-942f-5d04a684b7f5",
       "rows": [
        [
         "0",
         "-0.2517106376594955",
         "0.43151422503487225",
         "-1.042732241744008"
        ],
        [
         "1",
         "-0.2975433964954452",
         "0.11640453008394908",
         "2.7686792400151052"
        ],
        [
         "2",
         "-0.15525669576133638",
         "-0.0002231469296759371",
         "-6.281748030835881"
        ],
        [
         "3",
         "0.27418344521482285",
         "0.21175602528235124",
         "-2.4839621506952247"
        ],
        [
         "4",
         "0.05788674864285118",
         "-0.20643314343638208",
         "-4.438996393331314"
        ],
        [
         "5",
         "-0.07502939991640782",
         "-0.17242237504730007",
         "-5.122824303305746"
        ],
        [
         "6",
         "0.16586505298913842",
         "-0.17111551485256327",
         "-3.9425704602988945"
        ],
        [
         "7",
         "0.1472161123047692",
         "0.37961896709493315",
         "-1.94074114138924"
        ],
        [
         "8",
         "-0.13062124516969004",
         "0.46555498312301175",
         "-1.2972581782737853"
        ],
        [
         "9",
         "0.3480769063514125",
         "0.1846711313108692",
         "0.48778546552518076"
        ],
        [
         "10",
         "-0.26359568052175303",
         "0.42480430563624",
         "-1.015431679681459"
        ],
        [
         "11",
         "-0.24900671010945108",
         "0.26370378769776104",
         "2.3275368869921262"
        ],
        [
         "12",
         "0.2110404186600271",
         "-0.13597697393962077",
         "-3.7139625641138228"
        ],
        [
         "13",
         "0.007892921610577365",
         "-0.20137617106789737",
         "4.751563841439999"
        ],
        [
         "14",
         "-0.1541340391452857",
         "-0.05524585197613176",
         "-5.939022660819144"
        ],
        [
         "15",
         "-0.2072758352248436",
         "0.3224119919801724",
         "2.142157910608846"
        ],
        [
         "16",
         "-0.25327721907601003",
         "0.4306759660441459",
         "-1.0391785014823602"
        ],
        [
         "17",
         "0.3535558252647715",
         "0.3212226990805232",
         "0.7375181355424747"
        ],
        [
         "18",
         "0.040536392845080066",
         "-0.2070250654329178",
         "-4.519031007376595"
        ],
        [
         "19",
         "0.1958823785114642",
         "-0.14958430605296413",
         "-3.793768576082571"
        ],
        [
         "20",
         "-0.1986913986668983",
         "-0.1472176688119109",
         "3.7792677102323875"
        ],
        [
         "21",
         "0.1522083037891749",
         "-0.06414404468701923",
         "5.88434850495376"
        ],
        [
         "22",
         "0.25219160731891865",
         "0.2581183922638708",
         "-2.3445809249296032"
        ],
        [
         "23",
         "-0.26448228402056734",
         "0.23422234492297192",
         "2.4167972660235613"
        ],
        [
         "24",
         "0.0035326382941123654",
         "-0.202346328910295",
         "4.729845582976495"
        ],
        [
         "25",
         "0.04726331799876907",
         "-0.18792995134059073",
         "4.958773580485065"
        ],
        [
         "26",
         "-0.08902024722850313",
         "-0.16214054373932643",
         "-5.214488228501059"
        ],
        [
         "27",
         "-0.14785580011520946",
         "-0.07901213844459189",
         "-5.792408426811726"
        ],
        [
         "28",
         "0.1216446065878595",
         "-0.19258715103579754",
         "-4.149033313339098"
        ],
        [
         "29",
         "0.007955872362948197",
         "-0.20136145800262245",
         "4.751878843135589"
        ],
        [
         "30",
         "-0.06266508878129336",
         "-0.18004796910229792",
         "-5.047322544484681"
        ],
        [
         "31",
         "-0.27375305001975236",
         "0.41837851075438615",
         "-0.9913908228335169"
        ],
        [
         "32",
         "0.14562287018160816",
         "-0.08516176325621397",
         "5.754009536305995"
        ],
        [
         "33",
         "0.3246950697164812",
         "0.14374273128750956",
         "0.41676726250176976"
        ],
        [
         "34",
         "-0.26359877405980137",
         "0.23608613539223502",
         "2.411198926315274"
        ],
        [
         "35",
         "0.2472348875066497",
         "0.2667208445306671",
         "-2.318298953334005"
        ],
        [
         "36",
         "-0.2520185842576763",
         "0.2584274241328824",
         "2.343639777168578"
        ],
        [
         "37",
         "-0.10936030987222846",
         "-0.19672793220032647",
         "4.2050302101413415"
        ],
        [
         "38",
         "-0.1565808165791029",
         "-0.03663217971823616",
         "-6.053368036174284"
        ],
        [
         "39",
         "-0.2888889185954651",
         "-0.0005239049857190414",
         "3.1434061686734456"
        ],
        [
         "40",
         "0.15702835480510188",
         "-0.022124839378717915",
         "6.143209622138201"
        ],
        [
         "41",
         "-0.29068768509930676",
         "0.0067018483304319065",
         "3.1185415866920287"
        ],
        [
         "42",
         "0.29720237432583285",
         "0.11959315055345877",
         "-2.7590221663278682"
        ],
        [
         "43",
         "-0.22520984901072702",
         "-0.12116728289875699",
         "3.635191252394341"
        ],
        [
         "44",
         "-0.0520996702942136",
         "-0.18563307704755563",
         "-4.986009051484659"
        ],
        [
         "45",
         "-0.3635091408478226",
         "0.27909835562228924",
         "-0.6547892614809809"
        ],
        [
         "46",
         "0.07688486392353988",
         "-0.1711663615704706",
         "5.134562523228379"
        ],
        [
         "47",
         "0.2865065575281938",
         "0.17489935954187294",
         "-2.5935211010964863"
        ],
        [
         "48",
         "0.29239670863475004",
         "0.1502601669553349",
         "-2.666893748830832"
        ],
        [
         "49",
         "0.01298213482493949",
         "-0.2051695802404245",
         "-4.649198079485379"
        ]
       ],
       "shape": {
        "columns": 3,
        "rows": 500
       }
      },
      "text/html": [
       "<div>\n",
       "<style scoped>\n",
       "    .dataframe tbody tr th:only-of-type {\n",
       "        vertical-align: middle;\n",
       "    }\n",
       "\n",
       "    .dataframe tbody tr th {\n",
       "        vertical-align: top;\n",
       "    }\n",
       "\n",
       "    .dataframe thead th {\n",
       "        text-align: right;\n",
       "    }\n",
       "</style>\n",
       "<table border=\"1\" class=\"dataframe\">\n",
       "  <thead>\n",
       "    <tr style=\"text-align: right;\">\n",
       "      <th></th>\n",
       "      <th>x</th>\n",
       "      <th>y</th>\n",
       "      <th>z</th>\n",
       "    </tr>\n",
       "  </thead>\n",
       "  <tbody>\n",
       "    <tr>\n",
       "      <th>0</th>\n",
       "      <td>-0.251711</td>\n",
       "      <td>0.431514</td>\n",
       "      <td>-1.042732</td>\n",
       "    </tr>\n",
       "    <tr>\n",
       "      <th>1</th>\n",
       "      <td>-0.297543</td>\n",
       "      <td>0.116405</td>\n",
       "      <td>2.768679</td>\n",
       "    </tr>\n",
       "    <tr>\n",
       "      <th>2</th>\n",
       "      <td>-0.155257</td>\n",
       "      <td>-0.000223</td>\n",
       "      <td>-6.281748</td>\n",
       "    </tr>\n",
       "    <tr>\n",
       "      <th>3</th>\n",
       "      <td>0.274183</td>\n",
       "      <td>0.211756</td>\n",
       "      <td>-2.483962</td>\n",
       "    </tr>\n",
       "    <tr>\n",
       "      <th>4</th>\n",
       "      <td>0.057887</td>\n",
       "      <td>-0.206433</td>\n",
       "      <td>-4.438996</td>\n",
       "    </tr>\n",
       "    <tr>\n",
       "      <th>...</th>\n",
       "      <td>...</td>\n",
       "      <td>...</td>\n",
       "      <td>...</td>\n",
       "    </tr>\n",
       "    <tr>\n",
       "      <th>495</th>\n",
       "      <td>0.116779</td>\n",
       "      <td>-0.134623</td>\n",
       "      <td>5.426927</td>\n",
       "    </tr>\n",
       "    <tr>\n",
       "      <th>496</th>\n",
       "      <td>0.123673</td>\n",
       "      <td>-0.125652</td>\n",
       "      <td>5.489850</td>\n",
       "    </tr>\n",
       "    <tr>\n",
       "      <th>497</th>\n",
       "      <td>-0.082478</td>\n",
       "      <td>-0.203297</td>\n",
       "      <td>4.326978</td>\n",
       "    </tr>\n",
       "    <tr>\n",
       "      <th>498</th>\n",
       "      <td>0.098360</td>\n",
       "      <td>-0.154106</td>\n",
       "      <td>5.280471</td>\n",
       "    </tr>\n",
       "    <tr>\n",
       "      <th>499</th>\n",
       "      <td>0.259091</td>\n",
       "      <td>-0.073862</td>\n",
       "      <td>-3.419306</td>\n",
       "    </tr>\n",
       "  </tbody>\n",
       "</table>\n",
       "<p>500 rows × 3 columns</p>\n",
       "</div>"
      ],
      "text/plain": [
       "            x         y         z\n",
       "0   -0.251711  0.431514 -1.042732\n",
       "1   -0.297543  0.116405  2.768679\n",
       "2   -0.155257 -0.000223 -6.281748\n",
       "3    0.274183  0.211756 -2.483962\n",
       "4    0.057887 -0.206433 -4.438996\n",
       "..        ...       ...       ...\n",
       "495  0.116779 -0.134623  5.426927\n",
       "496  0.123673 -0.125652  5.489850\n",
       "497 -0.082478 -0.203297  4.326978\n",
       "498  0.098360 -0.154106  5.280471\n",
       "499  0.259091 -0.073862 -3.419306\n",
       "\n",
       "[500 rows x 3 columns]"
      ]
     },
     "execution_count": 1,
     "metadata": {},
     "output_type": "execute_result"
    }
   ],
   "source": [
    "import numpy as np\n",
    "import pandas as pd\n",
    "np.random.seed(1)\n",
    "\n",
    "# generate random numbers\n",
    "n = 500\n",
    "theta = np.random.uniform(-2*np.pi, 2*np.pi, n)\n",
    "x = (theta*np.cos(theta))/(1+theta**2)\n",
    "y = (theta*np.sin(theta))/(1+theta**2)\n",
    "z = theta\n",
    "df = pd.DataFrame({'x':x, 'y':y, 'z':z})\n",
    "df"
   ]
  },
  {
   "cell_type": "code",
   "execution_count": null,
   "metadata": {},
   "outputs": [
    {
     "data": {
      "application/vnd.plotly.v1+json": {
       "config": {
        "plotlyServerURL": "https://plot.ly"
       },
       "data": [
        {
         "hovertemplate": "x=%{x}<br>y=%{y}<br>z=%{marker.color}<extra></extra>",
         "legendgroup": "",
         "marker": {
          "color": {
           "bdata": "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",
           "dtype": "f8"
          },
          "coloraxis": "coloraxis",
          "symbol": "circle"
         },
         "mode": "markers",
         "name": "",
         "scene": "scene",
         "showlegend": false,
         "type": "scatter3d",
         "x": {
          "bdata": "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",
          "dtype": "f8"
         },
         "y": {
          "bdata": "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",
          "dtype": "f8"
         },
         "z": {
          "bdata": "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",
          "dtype": "f8"
         }
        }
       ],
       "layout": {
        "coloraxis": {
         "colorbar": {
          "title": {
           "text": "z"
          }
         },
         "colorscale": [
          [
           0,
           "#0d0887"
          ],
          [
           0.1111111111111111,
           "#46039f"
          ],
          [
           0.2222222222222222,
           "#7201a8"
          ],
          [
           0.3333333333333333,
           "#9c179e"
          ],
          [
           0.4444444444444444,
           "#bd3786"
          ],
          [
           0.5555555555555556,
           "#d8576b"
          ],
          [
           0.6666666666666666,
           "#ed7953"
          ],
          [
           0.7777777777777778,
           "#fb9f3a"
          ],
          [
           0.8888888888888888,
           "#fdca26"
          ],
          [
           1,
           "#f0f921"
          ]
         ]
        },
        "legend": {
         "tracegroupgap": 0
        },
        "margin": {
         "t": 60
        },
        "scene": {
         "domain": {
          "x": [
           0,
           1
          ],
          "y": [
           0,
           1
          ]
         },
         "xaxis": {
          "title": {
           "text": "x"
          }
         },
         "yaxis": {
          "title": {
           "text": "y"
          }
         },
         "zaxis": {
          "title": {
           "text": "z"
          }
         }
        },
        "template": {
         "data": {
          "bar": [
           {
            "error_x": {
             "color": "#2a3f5f"
            },
            "error_y": {
             "color": "#2a3f5f"
            },
            "marker": {
             "line": {
              "color": "#E5ECF6",
              "width": 0.5
             },
             "pattern": {
              "fillmode": "overlay",
              "size": 10,
              "solidity": 0.2
             }
            },
            "type": "bar"
           }
          ],
          "barpolar": [
           {
            "marker": {
             "line": {
              "color": "#E5ECF6",
              "width": 0.5
             },
             "pattern": {
              "fillmode": "overlay",
              "size": 10,
              "solidity": 0.2
             }
            },
            "type": "barpolar"
           }
          ],
          "carpet": [
           {
            "aaxis": {
             "endlinecolor": "#2a3f5f",
             "gridcolor": "white",
             "linecolor": "white",
             "minorgridcolor": "white",
             "startlinecolor": "#2a3f5f"
            },
            "baxis": {
             "endlinecolor": "#2a3f5f",
             "gridcolor": "white",
             "linecolor": "white",
             "minorgridcolor": "white",
             "startlinecolor": "#2a3f5f"
            },
            "type": "carpet"
           }
          ],
          "choropleth": [
           {
            "colorbar": {
             "outlinewidth": 0,
             "ticks": ""
            },
            "type": "choropleth"
           }
          ],
          "contour": [
           {
            "colorbar": {
             "outlinewidth": 0,
             "ticks": ""
            },
            "colorscale": [
             [
              0,
              "#0d0887"
             ],
             [
              0.1111111111111111,
              "#46039f"
             ],
             [
              0.2222222222222222,
              "#7201a8"
             ],
             [
              0.3333333333333333,
              "#9c179e"
             ],
             [
              0.4444444444444444,
              "#bd3786"
             ],
             [
              0.5555555555555556,
              "#d8576b"
             ],
             [
              0.6666666666666666,
              "#ed7953"
             ],
             [
              0.7777777777777778,
              "#fb9f3a"
             ],
             [
              0.8888888888888888,
              "#fdca26"
             ],
             [
              1,
              "#f0f921"
             ]
            ],
            "type": "contour"
           }
          ],
          "contourcarpet": [
           {
            "colorbar": {
             "outlinewidth": 0,
             "ticks": ""
            },
            "type": "contourcarpet"
           }
          ],
          "heatmap": [
           {
            "colorbar": {
             "outlinewidth": 0,
             "ticks": ""
            },
            "colorscale": [
             [
              0,
              "#0d0887"
             ],
             [
              0.1111111111111111,
              "#46039f"
             ],
             [
              0.2222222222222222,
              "#7201a8"
             ],
             [
              0.3333333333333333,
              "#9c179e"
             ],
             [
              0.4444444444444444,
              "#bd3786"
             ],
             [
              0.5555555555555556,
              "#d8576b"
             ],
             [
              0.6666666666666666,
              "#ed7953"
             ],
             [
              0.7777777777777778,
              "#fb9f3a"
             ],
             [
              0.8888888888888888,
              "#fdca26"
             ],
             [
              1,
              "#f0f921"
             ]
            ],
            "type": "heatmap"
           }
          ],
          "histogram": [
           {
            "marker": {
             "pattern": {
              "fillmode": "overlay",
              "size": 10,
              "solidity": 0.2
             }
            },
            "type": "histogram"
           }
          ],
          "histogram2d": [
           {
            "colorbar": {
             "outlinewidth": 0,
             "ticks": ""
            },
            "colorscale": [
             [
              0,
              "#0d0887"
             ],
             [
              0.1111111111111111,
              "#46039f"
             ],
             [
              0.2222222222222222,
              "#7201a8"
             ],
             [
              0.3333333333333333,
              "#9c179e"
             ],
             [
              0.4444444444444444,
              "#bd3786"
             ],
             [
              0.5555555555555556,
              "#d8576b"
             ],
             [
              0.6666666666666666,
              "#ed7953"
             ],
             [
              0.7777777777777778,
              "#fb9f3a"
             ],
             [
              0.8888888888888888,
              "#fdca26"
             ],
             [
              1,
              "#f0f921"
             ]
            ],
            "type": "histogram2d"
           }
          ],
          "histogram2dcontour": [
           {
            "colorbar": {
             "outlinewidth": 0,
             "ticks": ""
            },
            "colorscale": [
             [
              0,
              "#0d0887"
             ],
             [
              0.1111111111111111,
              "#46039f"
             ],
             [
              0.2222222222222222,
              "#7201a8"
             ],
             [
              0.3333333333333333,
              "#9c179e"
             ],
             [
              0.4444444444444444,
              "#bd3786"
             ],
             [
              0.5555555555555556,
              "#d8576b"
             ],
             [
              0.6666666666666666,
              "#ed7953"
             ],
             [
              0.7777777777777778,
              "#fb9f3a"
             ],
             [
              0.8888888888888888,
              "#fdca26"
             ],
             [
              1,
              "#f0f921"
             ]
            ],
            "type": "histogram2dcontour"
           }
          ],
          "mesh3d": [
           {
            "colorbar": {
             "outlinewidth": 0,
             "ticks": ""
            },
            "type": "mesh3d"
           }
          ],
          "parcoords": [
           {
            "line": {
             "colorbar": {
              "outlinewidth": 0,
              "ticks": ""
             }
            },
            "type": "parcoords"
           }
          ],
          "pie": [
           {
            "automargin": true,
            "type": "pie"
           }
          ],
          "scatter": [
           {
            "fillpattern": {
             "fillmode": "overlay",
             "size": 10,
             "solidity": 0.2
            },
            "type": "scatter"
           }
          ],
          "scatter3d": [
           {
            "line": {
             "colorbar": {
              "outlinewidth": 0,
              "ticks": ""
             }
            },
            "marker": {
             "colorbar": {
              "outlinewidth": 0,
              "ticks": ""
             }
            },
            "type": "scatter3d"
           }
          ],
          "scattercarpet": [
           {
            "marker": {
             "colorbar": {
              "outlinewidth": 0,
              "ticks": ""
             }
            },
            "type": "scattercarpet"
           }
          ],
          "scattergeo": [
           {
            "marker": {
             "colorbar": {
              "outlinewidth": 0,
              "ticks": ""
             }
            },
            "type": "scattergeo"
           }
          ],
          "scattergl": [
           {
            "marker": {
             "colorbar": {
              "outlinewidth": 0,
              "ticks": ""
             }
            },
            "type": "scattergl"
           }
          ],
          "scattermap": [
           {
            "marker": {
             "colorbar": {
              "outlinewidth": 0,
              "ticks": ""
             }
            },
            "type": "scattermap"
           }
          ],
          "scattermapbox": [
           {
            "marker": {
             "colorbar": {
              "outlinewidth": 0,
              "ticks": ""
             }
            },
            "type": "scattermapbox"
           }
          ],
          "scatterpolar": [
           {
            "marker": {
             "colorbar": {
              "outlinewidth": 0,
              "ticks": ""
             }
            },
            "type": "scatterpolar"
           }
          ],
          "scatterpolargl": [
           {
            "marker": {
             "colorbar": {
              "outlinewidth": 0,
              "ticks": ""
             }
            },
            "type": "scatterpolargl"
           }
          ],
          "scatterternary": [
           {
            "marker": {
             "colorbar": {
              "outlinewidth": 0,
              "ticks": ""
             }
            },
            "type": "scatterternary"
           }
          ],
          "surface": [
           {
            "colorbar": {
             "outlinewidth": 0,
             "ticks": ""
            },
            "colorscale": [
             [
              0,
              "#0d0887"
             ],
             [
              0.1111111111111111,
              "#46039f"
             ],
             [
              0.2222222222222222,
              "#7201a8"
             ],
             [
              0.3333333333333333,
              "#9c179e"
             ],
             [
              0.4444444444444444,
              "#bd3786"
             ],
             [
              0.5555555555555556,
              "#d8576b"
             ],
             [
              0.6666666666666666,
              "#ed7953"
             ],
             [
              0.7777777777777778,
              "#fb9f3a"
             ],
             [
              0.8888888888888888,
              "#fdca26"
             ],
             [
              1,
              "#f0f921"
             ]
            ],
            "type": "surface"
           }
          ],
          "table": [
           {
            "cells": {
             "fill": {
              "color": "#EBF0F8"
             },
             "line": {
              "color": "white"
             }
            },
            "header": {
             "fill": {
              "color": "#C8D4E3"
             },
             "line": {
              "color": "white"
             }
            },
            "type": "table"
           }
          ]
         },
         "layout": {
          "annotationdefaults": {
           "arrowcolor": "#2a3f5f",
           "arrowhead": 0,
           "arrowwidth": 1
          },
          "autotypenumbers": "strict",
          "coloraxis": {
           "colorbar": {
            "outlinewidth": 0,
            "ticks": ""
           }
          },
          "colorscale": {
           "diverging": [
            [
             0,
             "#8e0152"
            ],
            [
             0.1,
             "#c51b7d"
            ],
            [
             0.2,
             "#de77ae"
            ],
            [
             0.3,
             "#f1b6da"
            ],
            [
             0.4,
             "#fde0ef"
            ],
            [
             0.5,
             "#f7f7f7"
            ],
            [
             0.6,
             "#e6f5d0"
            ],
            [
             0.7,
             "#b8e186"
            ],
            [
             0.8,
             "#7fbc41"
            ],
            [
             0.9,
             "#4d9221"
            ],
            [
             1,
             "#276419"
            ]
           ],
           "sequential": [
            [
             0,
             "#0d0887"
            ],
            [
             0.1111111111111111,
             "#46039f"
            ],
            [
             0.2222222222222222,
             "#7201a8"
            ],
            [
             0.3333333333333333,
             "#9c179e"
            ],
            [
             0.4444444444444444,
             "#bd3786"
            ],
            [
             0.5555555555555556,
             "#d8576b"
            ],
            [
             0.6666666666666666,
             "#ed7953"
            ],
            [
             0.7777777777777778,
             "#fb9f3a"
            ],
            [
             0.8888888888888888,
             "#fdca26"
            ],
            [
             1,
             "#f0f921"
            ]
           ],
           "sequentialminus": [
            [
             0,
             "#0d0887"
            ],
            [
             0.1111111111111111,
             "#46039f"
            ],
            [
             0.2222222222222222,
             "#7201a8"
            ],
            [
             0.3333333333333333,
             "#9c179e"
            ],
            [
             0.4444444444444444,
             "#bd3786"
            ],
            [
             0.5555555555555556,
             "#d8576b"
            ],
            [
             0.6666666666666666,
             "#ed7953"
            ],
            [
             0.7777777777777778,
             "#fb9f3a"
            ],
            [
             0.8888888888888888,
             "#fdca26"
            ],
            [
             1,
             "#f0f921"
            ]
           ]
          },
          "colorway": [
           "#636efa",
           "#EF553B",
           "#00cc96",
           "#ab63fa",
           "#FFA15A",
           "#19d3f3",
           "#FF6692",
           "#B6E880",
           "#FF97FF",
           "#FECB52"
          ],
          "font": {
           "color": "#2a3f5f"
          },
          "geo": {
           "bgcolor": "white",
           "lakecolor": "white",
           "landcolor": "#E5ECF6",
           "showlakes": true,
           "showland": true,
           "subunitcolor": "white"
          },
          "hoverlabel": {
           "align": "left"
          },
          "hovermode": "closest",
          "mapbox": {
           "style": "light"
          },
          "paper_bgcolor": "white",
          "plot_bgcolor": "#E5ECF6",
          "polar": {
           "angularaxis": {
            "gridcolor": "white",
            "linecolor": "white",
            "ticks": ""
           },
           "bgcolor": "#E5ECF6",
           "radialaxis": {
            "gridcolor": "white",
            "linecolor": "white",
            "ticks": ""
           }
          },
          "scene": {
           "xaxis": {
            "backgroundcolor": "#E5ECF6",
            "gridcolor": "white",
            "gridwidth": 2,
            "linecolor": "white",
            "showbackground": true,
            "ticks": "",
            "zerolinecolor": "white"
           },
           "yaxis": {
            "backgroundcolor": "#E5ECF6",
            "gridcolor": "white",
            "gridwidth": 2,
            "linecolor": "white",
            "showbackground": true,
            "ticks": "",
            "zerolinecolor": "white"
           },
           "zaxis": {
            "backgroundcolor": "#E5ECF6",
            "gridcolor": "white",
            "gridwidth": 2,
            "linecolor": "white",
            "showbackground": true,
            "ticks": "",
            "zerolinecolor": "white"
           }
          },
          "shapedefaults": {
           "line": {
            "color": "#2a3f5f"
           }
          },
          "ternary": {
           "aaxis": {
            "gridcolor": "white",
            "linecolor": "white",
            "ticks": ""
           },
           "baxis": {
            "gridcolor": "white",
            "linecolor": "white",
            "ticks": ""
           },
           "bgcolor": "#E5ECF6",
           "caxis": {
            "gridcolor": "white",
            "linecolor": "white",
            "ticks": ""
           }
          },
          "title": {
           "x": 0.05
          },
          "xaxis": {
           "automargin": true,
           "gridcolor": "white",
           "linecolor": "white",
           "ticks": "",
           "title": {
            "standoff": 15
           },
           "zerolinecolor": "white",
           "zerolinewidth": 2
          },
          "yaxis": {
           "automargin": true,
           "gridcolor": "white",
           "linecolor": "white",
           "ticks": "",
           "title": {
            "standoff": 15
           },
           "zerolinecolor": "white",
           "zerolinewidth": 2
          }
         }
        }
       }
      }
     },
     "metadata": {},
     "output_type": "display_data"
    }
   ],
   "source": [
    "from matplotlib import pyplot as plt\n",
    "import plotly.express as px\n",
    "fig = px.scatter_3d(df, x='x', y='y', z='z', color='z')\n",
    "\n",
    "fig.show()"
   ]
  },
  {
   "cell_type": "markdown",
   "metadata": {},
   "source": [
    "a) Use idpettis.m to estimate the intrinsic dim"
   ]
  },
  {
   "cell_type": "code",
   "execution_count": 4,
   "metadata": {},
   "outputs": [
    {
     "name": "stdout",
     "output_type": "stream",
     "text": [
      "Help on function id_pettis in module pyEDAkit.IntrinsicDimensionality:\n",
      "\n",
      "id_pettis(X)\n",
      "    Estimate the intrinsic dimensionality using the Pettis,\n",
      "        Bailey, Jain, and Dubes algorithm.\n",
      "\n",
      "    Parameters:\n",
      "    X (array): Data matrix.\n",
      "\n",
      "    Returns:\n",
      "    float: Estimate of intrinsic dimensionality.\n",
      "\n"
     ]
    }
   ],
   "source": [
    "import pyEDAkit as kit\n",
    "help(kit.IntrinsicDimensionality.id_pettis)"
   ]
  },
  {
   "cell_type": "code",
   "execution_count": 12,
   "metadata": {},
   "outputs": [
    {
     "data": {
      "text/plain": [
       "np.float64(1.1185140237063393)"
      ]
     },
     "execution_count": 12,
     "metadata": {},
     "output_type": "execute_result"
    }
   ],
   "source": [
    "from pyEDAkit.IntrinsicDimensionality import id_pettis\n",
    "\n",
    "eid = id_pettis(df)\n",
    "eid"
   ]
  },
  {
   "cell_type": "markdown",
   "metadata": {},
   "source": [
    "b) Add noise of various sizes to your cuvre and thereafter study the intrinsic dim.\n",
    "\n",
    "add random numbers to the data between the min and max of the dat"
   ]
  },
  {
   "cell_type": "code",
   "execution_count": 6,
   "metadata": {},
   "outputs": [
    {
     "data": {
      "application/vnd.microsoft.datawrangler.viewer.v0+json": {
       "columns": [
        {
         "name": "index",
         "rawType": "object",
         "type": "string"
        },
        {
         "name": "x",
         "rawType": "float64",
         "type": "float"
        },
        {
         "name": "y",
         "rawType": "float64",
         "type": "float"
        },
        {
         "name": "z",
         "rawType": "float64",
         "type": "float"
        }
       ],
       "conversionMethod": "pd.DataFrame",
       "ref": "b2e320d3-d7f4-4967-bf59-a6651667d6d7",
       "rows": [
        [
         "min",
         "-0.36448402583696476",
         "-0.20702636672870697",
         "-6.281748030835881"
        ],
        [
         "max",
         "0.3644905405625491",
         "0.4665699912077039",
         "6.249543253762825"
        ]
       ],
       "shape": {
        "columns": 3,
        "rows": 2
       }
      },
      "text/html": [
       "<div>\n",
       "<style scoped>\n",
       "    .dataframe tbody tr th:only-of-type {\n",
       "        vertical-align: middle;\n",
       "    }\n",
       "\n",
       "    .dataframe tbody tr th {\n",
       "        vertical-align: top;\n",
       "    }\n",
       "\n",
       "    .dataframe thead th {\n",
       "        text-align: right;\n",
       "    }\n",
       "</style>\n",
       "<table border=\"1\" class=\"dataframe\">\n",
       "  <thead>\n",
       "    <tr style=\"text-align: right;\">\n",
       "      <th></th>\n",
       "      <th>x</th>\n",
       "      <th>y</th>\n",
       "      <th>z</th>\n",
       "    </tr>\n",
       "  </thead>\n",
       "  <tbody>\n",
       "    <tr>\n",
       "      <th>min</th>\n",
       "      <td>-0.364484</td>\n",
       "      <td>-0.207026</td>\n",
       "      <td>-6.281748</td>\n",
       "    </tr>\n",
       "    <tr>\n",
       "      <th>max</th>\n",
       "      <td>0.364491</td>\n",
       "      <td>0.466570</td>\n",
       "      <td>6.249543</td>\n",
       "    </tr>\n",
       "  </tbody>\n",
       "</table>\n",
       "</div>"
      ],
      "text/plain": [
       "            x         y         z\n",
       "min -0.364484 -0.207026 -6.281748\n",
       "max  0.364491  0.466570  6.249543"
      ]
     },
     "execution_count": 6,
     "metadata": {},
     "output_type": "execute_result"
    }
   ],
   "source": [
    "# get min and max of each\n",
    "min_max = df.agg([\"min\", \"max\"])\n",
    "min_max"
   ]
  },
  {
   "cell_type": "code",
   "execution_count": 10,
   "metadata": {},
   "outputs": [
    {
     "data": {
      "application/vnd.microsoft.datawrangler.viewer.v0+json": {
       "columns": [
        {
         "name": "index",
         "rawType": "int64",
         "type": "integer"
        },
        {
         "name": "x",
         "rawType": "float64",
         "type": "float"
        },
        {
         "name": "y",
         "rawType": "float64",
         "type": "float"
        },
        {
         "name": "z",
         "rawType": "float64",
         "type": "float"
        }
       ],
       "conversionMethod": "pd.DataFrame",
       "ref": "3859df4d-0553-4c14-94af-a168e3789c34",
       "rows": [
        [
         "0",
         "-0.2517106376594955",
         "0.43151422503487225",
         "-1.042732241744008"
        ],
        [
         "1",
         "-0.2975433964954452",
         "0.11640453008394908",
         "2.7686792400151052"
        ],
        [
         "2",
         "-0.15525669576133638",
         "-0.0002231469296759371",
         "-6.281748030835881"
        ],
        [
         "3",
         "0.27418344521482285",
         "0.21175602528235124",
         "-2.4839621506952247"
        ],
        [
         "4",
         "0.05788674864285118",
         "-0.20643314343638208",
         "-4.438996393331314"
        ],
        [
         "5",
         "-0.07502939991640782",
         "-0.17242237504730007",
         "-5.122824303305746"
        ],
        [
         "6",
         "0.16586505298913842",
         "-0.17111551485256327",
         "-3.9425704602988945"
        ],
        [
         "7",
         "0.1472161123047692",
         "0.37961896709493315",
         "-1.94074114138924"
        ],
        [
         "8",
         "-0.13062124516969004",
         "0.46555498312301175",
         "-1.2972581782737853"
        ],
        [
         "9",
         "0.3480769063514125",
         "0.1846711313108692",
         "0.48778546552518076"
        ],
        [
         "10",
         "-0.26359568052175303",
         "0.42480430563624",
         "-1.015431679681459"
        ],
        [
         "11",
         "-0.24900671010945108",
         "0.26370378769776104",
         "2.3275368869921262"
        ],
        [
         "12",
         "0.2110404186600271",
         "-0.13597697393962077",
         "-3.7139625641138228"
        ],
        [
         "13",
         "0.007892921610577365",
         "-0.20137617106789737",
         "4.751563841439999"
        ],
        [
         "14",
         "-0.1541340391452857",
         "-0.05524585197613176",
         "-5.939022660819144"
        ],
        [
         "15",
         "-0.2072758352248436",
         "0.3224119919801724",
         "2.142157910608846"
        ],
        [
         "16",
         "-0.25327721907601003",
         "0.4306759660441459",
         "-1.0391785014823602"
        ],
        [
         "17",
         "0.3535558252647715",
         "0.3212226990805232",
         "0.7375181355424747"
        ],
        [
         "18",
         "0.040536392845080066",
         "-0.2070250654329178",
         "-4.519031007376595"
        ],
        [
         "19",
         "0.1958823785114642",
         "-0.14958430605296413",
         "-3.793768576082571"
        ],
        [
         "20",
         "-0.1986913986668983",
         "-0.1472176688119109",
         "3.7792677102323875"
        ],
        [
         "21",
         "0.1522083037891749",
         "-0.06414404468701923",
         "5.88434850495376"
        ],
        [
         "22",
         "0.25219160731891865",
         "0.2581183922638708",
         "-2.3445809249296032"
        ],
        [
         "23",
         "-0.26448228402056734",
         "0.23422234492297192",
         "2.4167972660235613"
        ],
        [
         "24",
         "0.0035326382941123654",
         "-0.202346328910295",
         "4.729845582976495"
        ],
        [
         "25",
         "0.04726331799876907",
         "-0.18792995134059073",
         "4.958773580485065"
        ],
        [
         "26",
         "-0.08902024722850313",
         "-0.16214054373932643",
         "-5.214488228501059"
        ],
        [
         "27",
         "-0.14785580011520946",
         "-0.07901213844459189",
         "-5.792408426811726"
        ],
        [
         "28",
         "0.1216446065878595",
         "-0.19258715103579754",
         "-4.149033313339098"
        ],
        [
         "29",
         "0.007955872362948197",
         "-0.20136145800262245",
         "4.751878843135589"
        ],
        [
         "30",
         "-0.06266508878129336",
         "-0.18004796910229792",
         "-5.047322544484681"
        ],
        [
         "31",
         "-0.27375305001975236",
         "0.41837851075438615",
         "-0.9913908228335169"
        ],
        [
         "32",
         "0.14562287018160816",
         "-0.08516176325621397",
         "5.754009536305995"
        ],
        [
         "33",
         "0.3246950697164812",
         "0.14374273128750956",
         "0.41676726250176976"
        ],
        [
         "34",
         "-0.26359877405980137",
         "0.23608613539223502",
         "2.411198926315274"
        ],
        [
         "35",
         "0.2472348875066497",
         "0.2667208445306671",
         "-2.318298953334005"
        ],
        [
         "36",
         "-0.2520185842576763",
         "0.2584274241328824",
         "2.343639777168578"
        ],
        [
         "37",
         "-0.10936030987222846",
         "-0.19672793220032647",
         "4.2050302101413415"
        ],
        [
         "38",
         "-0.1565808165791029",
         "-0.03663217971823616",
         "-6.053368036174284"
        ],
        [
         "39",
         "-0.2888889185954651",
         "-0.0005239049857190414",
         "3.1434061686734456"
        ],
        [
         "40",
         "0.15702835480510188",
         "-0.022124839378717915",
         "6.143209622138201"
        ],
        [
         "41",
         "-0.29068768509930676",
         "0.0067018483304319065",
         "3.1185415866920287"
        ],
        [
         "42",
         "0.29720237432583285",
         "0.11959315055345877",
         "-2.7590221663278682"
        ],
        [
         "43",
         "-0.22520984901072702",
         "-0.12116728289875699",
         "3.635191252394341"
        ],
        [
         "44",
         "-0.0520996702942136",
         "-0.18563307704755563",
         "-4.986009051484659"
        ],
        [
         "45",
         "-0.3635091408478226",
         "0.27909835562228924",
         "-0.6547892614809809"
        ],
        [
         "46",
         "0.07688486392353988",
         "-0.1711663615704706",
         "5.134562523228379"
        ],
        [
         "47",
         "0.2865065575281938",
         "0.17489935954187294",
         "-2.5935211010964863"
        ],
        [
         "48",
         "0.29239670863475004",
         "0.1502601669553349",
         "-2.666893748830832"
        ],
        [
         "49",
         "0.01298213482493949",
         "-0.2051695802404245",
         "-4.649198079485379"
        ]
       ],
       "shape": {
        "columns": 3,
        "rows": 500
       }
      },
      "text/html": [
       "<div>\n",
       "<style scoped>\n",
       "    .dataframe tbody tr th:only-of-type {\n",
       "        vertical-align: middle;\n",
       "    }\n",
       "\n",
       "    .dataframe tbody tr th {\n",
       "        vertical-align: top;\n",
       "    }\n",
       "\n",
       "    .dataframe thead th {\n",
       "        text-align: right;\n",
       "    }\n",
       "</style>\n",
       "<table border=\"1\" class=\"dataframe\">\n",
       "  <thead>\n",
       "    <tr style=\"text-align: right;\">\n",
       "      <th></th>\n",
       "      <th>x</th>\n",
       "      <th>y</th>\n",
       "      <th>z</th>\n",
       "    </tr>\n",
       "  </thead>\n",
       "  <tbody>\n",
       "    <tr>\n",
       "      <th>0</th>\n",
       "      <td>-0.251711</td>\n",
       "      <td>0.431514</td>\n",
       "      <td>-1.042732</td>\n",
       "    </tr>\n",
       "    <tr>\n",
       "      <th>1</th>\n",
       "      <td>-0.297543</td>\n",
       "      <td>0.116405</td>\n",
       "      <td>2.768679</td>\n",
       "    </tr>\n",
       "    <tr>\n",
       "      <th>2</th>\n",
       "      <td>-0.155257</td>\n",
       "      <td>-0.000223</td>\n",
       "      <td>-6.281748</td>\n",
       "    </tr>\n",
       "    <tr>\n",
       "      <th>3</th>\n",
       "      <td>0.274183</td>\n",
       "      <td>0.211756</td>\n",
       "      <td>-2.483962</td>\n",
       "    </tr>\n",
       "    <tr>\n",
       "      <th>4</th>\n",
       "      <td>0.057887</td>\n",
       "      <td>-0.206433</td>\n",
       "      <td>-4.438996</td>\n",
       "    </tr>\n",
       "    <tr>\n",
       "      <th>...</th>\n",
       "      <td>...</td>\n",
       "      <td>...</td>\n",
       "      <td>...</td>\n",
       "    </tr>\n",
       "    <tr>\n",
       "      <th>495</th>\n",
       "      <td>0.116779</td>\n",
       "      <td>-0.134623</td>\n",
       "      <td>5.426927</td>\n",
       "    </tr>\n",
       "    <tr>\n",
       "      <th>496</th>\n",
       "      <td>0.123673</td>\n",
       "      <td>-0.125652</td>\n",
       "      <td>5.489850</td>\n",
       "    </tr>\n",
       "    <tr>\n",
       "      <th>497</th>\n",
       "      <td>-0.082478</td>\n",
       "      <td>-0.203297</td>\n",
       "      <td>4.326978</td>\n",
       "    </tr>\n",
       "    <tr>\n",
       "      <th>498</th>\n",
       "      <td>0.098360</td>\n",
       "      <td>-0.154106</td>\n",
       "      <td>5.280471</td>\n",
       "    </tr>\n",
       "    <tr>\n",
       "      <th>499</th>\n",
       "      <td>0.259091</td>\n",
       "      <td>-0.073862</td>\n",
       "      <td>-3.419306</td>\n",
       "    </tr>\n",
       "  </tbody>\n",
       "</table>\n",
       "<p>500 rows × 3 columns</p>\n",
       "</div>"
      ],
      "text/plain": [
       "            x         y         z\n",
       "0   -0.251711  0.431514 -1.042732\n",
       "1   -0.297543  0.116405  2.768679\n",
       "2   -0.155257 -0.000223 -6.281748\n",
       "3    0.274183  0.211756 -2.483962\n",
       "4    0.057887 -0.206433 -4.438996\n",
       "..        ...       ...       ...\n",
       "495  0.116779 -0.134623  5.426927\n",
       "496  0.123673 -0.125652  5.489850\n",
       "497 -0.082478 -0.203297  4.326978\n",
       "498  0.098360 -0.154106  5.280471\n",
       "499  0.259091 -0.073862 -3.419306\n",
       "\n",
       "[500 rows x 3 columns]"
      ]
     },
     "execution_count": 10,
     "metadata": {},
     "output_type": "execute_result"
    }
   ],
   "source": [
    "df"
   ]
  },
  {
   "cell_type": "code",
   "execution_count": 60,
   "metadata": {},
   "outputs": [
    {
     "data": {
      "application/vnd.microsoft.datawrangler.viewer.v0+json": {
       "columns": [
        {
         "name": "index",
         "rawType": "int64",
         "type": "integer"
        },
        {
         "name": "n",
         "rawType": "int64",
         "type": "integer"
        },
        {
         "name": "eid",
         "rawType": "float64",
         "type": "float"
        }
       ],
       "conversionMethod": "pd.DataFrame",
       "ref": "424cf7cd-871d-4452-9462-a6ceff8d1c2b",
       "rows": [
        [
         "0",
         "0",
         "1.1185140237063393"
        ],
        [
         "1",
         "1",
         "1.119463532339289"
        ],
        [
         "2",
         "2",
         "1.1294938837676232"
        ],
        [
         "3",
         "3",
         "1.109481425960598"
        ],
        [
         "4",
         "4",
         "1.1029728634645284"
        ],
        [
         "5",
         "5",
         "1.0949603579723406"
        ],
        [
         "6",
         "6",
         "1.0875657695531162"
        ],
        [
         "7",
         "7",
         "1.0963678541169797"
        ],
        [
         "8",
         "8",
         "1.0820999744810105"
        ],
        [
         "9",
         "9",
         "1.0564417967403505"
        ],
        [
         "10",
         "10",
         "1.0547156448115156"
        ],
        [
         "11",
         "11",
         "1.0487199015852118"
        ],
        [
         "12",
         "12",
         "1.0461617012824427"
        ],
        [
         "13",
         "13",
         "1.0341159831307978"
        ],
        [
         "14",
         "14",
         "1.0298602026845258"
        ],
        [
         "15",
         "15",
         "1.0279932670621381"
        ],
        [
         "16",
         "16",
         "1.0266422633260512"
        ],
        [
         "17",
         "17",
         "1.033783881371984"
        ],
        [
         "18",
         "18",
         "1.033783881371984"
        ],
        [
         "19",
         "19",
         "1.0305192696845002"
        ],
        [
         "20",
         "20",
         "1.034268503809504"
        ],
        [
         "21",
         "21",
         "1.046498742219765"
        ],
        [
         "22",
         "22",
         "1.045185431973523"
        ],
        [
         "23",
         "23",
         "1.045185431973523"
        ],
        [
         "24",
         "24",
         "1.0392911162336207"
        ],
        [
         "25",
         "25",
         "1.0392911162336207"
        ],
        [
         "26",
         "26",
         "1.0347376288205894"
        ],
        [
         "27",
         "27",
         "1.0347376288205894"
        ],
        [
         "28",
         "28",
         "1.0434577002591698"
        ],
        [
         "29",
         "29",
         "1.0548754123351156"
        ],
        [
         "30",
         "30",
         "1.0548754123351156"
        ],
        [
         "31",
         "31",
         "1.0751354185200337"
        ],
        [
         "32",
         "32",
         "1.0751354185200337"
        ],
        [
         "33",
         "33",
         "1.073390459533641"
        ],
        [
         "34",
         "34",
         "1.0878956188938982"
        ],
        [
         "35",
         "35",
         "1.1070390199330207"
        ],
        [
         "36",
         "36",
         "1.1120155033665982"
        ],
        [
         "37",
         "37",
         "1.1093265978245508"
        ],
        [
         "38",
         "38",
         "1.1093265978245508"
        ],
        [
         "39",
         "39",
         "1.1093265978245508"
        ],
        [
         "40",
         "40",
         "1.1075708243945914"
        ],
        [
         "41",
         "41",
         "1.1075708243945914"
        ],
        [
         "42",
         "42",
         "1.10556390868709"
        ],
        [
         "43",
         "43",
         "1.1598033796713283"
        ],
        [
         "44",
         "44",
         "1.1555934072359633"
        ],
        [
         "45",
         "45",
         "1.1533742123228836"
        ],
        [
         "46",
         "46",
         "1.1615019544987322"
        ],
        [
         "47",
         "47",
         "1.169727929613293"
        ],
        [
         "48",
         "48",
         "1.169727929613293"
        ],
        [
         "49",
         "49",
         "1.169727929613293"
        ]
       ],
       "shape": {
        "columns": 2,
        "rows": 100
       }
      },
      "text/html": [
       "<div>\n",
       "<style scoped>\n",
       "    .dataframe tbody tr th:only-of-type {\n",
       "        vertical-align: middle;\n",
       "    }\n",
       "\n",
       "    .dataframe tbody tr th {\n",
       "        vertical-align: top;\n",
       "    }\n",
       "\n",
       "    .dataframe thead th {\n",
       "        text-align: right;\n",
       "    }\n",
       "</style>\n",
       "<table border=\"1\" class=\"dataframe\">\n",
       "  <thead>\n",
       "    <tr style=\"text-align: right;\">\n",
       "      <th></th>\n",
       "      <th>n</th>\n",
       "      <th>eid</th>\n",
       "    </tr>\n",
       "  </thead>\n",
       "  <tbody>\n",
       "    <tr>\n",
       "      <th>0</th>\n",
       "      <td>0</td>\n",
       "      <td>1.118514</td>\n",
       "    </tr>\n",
       "    <tr>\n",
       "      <th>1</th>\n",
       "      <td>1</td>\n",
       "      <td>1.119464</td>\n",
       "    </tr>\n",
       "    <tr>\n",
       "      <th>2</th>\n",
       "      <td>2</td>\n",
       "      <td>1.129494</td>\n",
       "    </tr>\n",
       "    <tr>\n",
       "      <th>3</th>\n",
       "      <td>3</td>\n",
       "      <td>1.109481</td>\n",
       "    </tr>\n",
       "    <tr>\n",
       "      <th>4</th>\n",
       "      <td>4</td>\n",
       "      <td>1.102973</td>\n",
       "    </tr>\n",
       "    <tr>\n",
       "      <th>...</th>\n",
       "      <td>...</td>\n",
       "      <td>...</td>\n",
       "    </tr>\n",
       "    <tr>\n",
       "      <th>95</th>\n",
       "      <td>95</td>\n",
       "      <td>1.954354</td>\n",
       "    </tr>\n",
       "    <tr>\n",
       "      <th>96</th>\n",
       "      <td>96</td>\n",
       "      <td>2.007681</td>\n",
       "    </tr>\n",
       "    <tr>\n",
       "      <th>97</th>\n",
       "      <td>97</td>\n",
       "      <td>2.007681</td>\n",
       "    </tr>\n",
       "    <tr>\n",
       "      <th>98</th>\n",
       "      <td>98</td>\n",
       "      <td>2.007681</td>\n",
       "    </tr>\n",
       "    <tr>\n",
       "      <th>99</th>\n",
       "      <td>99</td>\n",
       "      <td>2.096840</td>\n",
       "    </tr>\n",
       "  </tbody>\n",
       "</table>\n",
       "<p>100 rows × 2 columns</p>\n",
       "</div>"
      ],
      "text/plain": [
       "     n       eid\n",
       "0    0  1.118514\n",
       "1    1  1.119464\n",
       "2    2  1.129494\n",
       "3    3  1.109481\n",
       "4    4  1.102973\n",
       "..  ..       ...\n",
       "95  95  1.954354\n",
       "96  96  2.007681\n",
       "97  97  2.007681\n",
       "98  98  2.007681\n",
       "99  99  2.096840\n",
       "\n",
       "[100 rows x 2 columns]"
      ]
     },
     "execution_count": 60,
     "metadata": {},
     "output_type": "execute_result"
    }
   ],
   "source": [
    "iterations = 100\n",
    "n_generated = 100\n",
    "\n",
    "noise_list = [[0, eid]]\n",
    "df_noised = df.copy()\n",
    "np.random.seed(1)\n",
    "for i in range(1, iterations):\n",
    "  x = np.random.uniform(min_max['x']['min'], min_max['x']['max'], n_generated//iterations)\n",
    "  y = np.random.uniform(min_max['y']['min'], min_max['y']['max'], n_generated//iterations)\n",
    "  z = np.random.uniform(min_max['z']['min'], min_max['z']['max'], n_generated//iterations)\n",
    "\n",
    "  df_noised = pd.concat([df_noised, pd.DataFrame({'x': x, 'y': y, 'z': z})], ignore_index=True)\n",
    "  noise_list.append([(n_generated//iterations)*i, id_pettis(df_noised)])\n",
    "noise_df = pd.DataFrame(noise_list, columns=['n', 'eid'])\n",
    "noise_df"
   ]
  },
  {
   "cell_type": "code",
   "execution_count": 61,
   "metadata": {},
   "outputs": [
    {
     "data": {
      "application/vnd.plotly.v1+json": {
       "config": {
        "plotlyServerURL": "https://plot.ly"
       },
       "data": [
        {
         "hovertemplate": "x=%{x}<br>y=%{y}<br>z=%{marker.color}<extra></extra>",
         "legendgroup": "",
         "marker": {
          "color": {
           "bdata": "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",
           "dtype": "f8"
          },
          "coloraxis": "coloraxis",
          "symbol": "circle"
         },
         "mode": "markers",
         "name": "",
         "scene": "scene",
         "showlegend": false,
         "type": "scatter3d",
         "x": {
          "bdata": "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",
          "dtype": "f8"
         },
         "y": {
          "bdata": "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",
          "dtype": "f8"
         },
         "z": {
          "bdata": "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",
          "dtype": "f8"
         }
        }
       ],
       "layout": {
        "coloraxis": {
         "colorbar": {
          "title": {
           "text": "z"
          }
         },
         "colorscale": [
          [
           0,
           "#0d0887"
          ],
          [
           0.1111111111111111,
           "#46039f"
          ],
          [
           0.2222222222222222,
           "#7201a8"
          ],
          [
           0.3333333333333333,
           "#9c179e"
          ],
          [
           0.4444444444444444,
           "#bd3786"
          ],
          [
           0.5555555555555556,
           "#d8576b"
          ],
          [
           0.6666666666666666,
           "#ed7953"
          ],
          [
           0.7777777777777778,
           "#fb9f3a"
          ],
          [
           0.8888888888888888,
           "#fdca26"
          ],
          [
           1,
           "#f0f921"
          ]
         ]
        },
        "legend": {
         "tracegroupgap": 0
        },
        "margin": {
         "t": 60
        },
        "scene": {
         "domain": {
          "x": [
           0,
           1
          ],
          "y": [
           0,
           1
          ]
         },
         "xaxis": {
          "title": {
           "text": "x"
          }
         },
         "yaxis": {
          "title": {
           "text": "y"
          }
         },
         "zaxis": {
          "title": {
           "text": "z"
          }
         }
        },
        "template": {
         "data": {
          "bar": [
           {
            "error_x": {
             "color": "#2a3f5f"
            },
            "error_y": {
             "color": "#2a3f5f"
            },
            "marker": {
             "line": {
              "color": "#E5ECF6",
              "width": 0.5
             },
             "pattern": {
              "fillmode": "overlay",
              "size": 10,
              "solidity": 0.2
             }
            },
            "type": "bar"
           }
          ],
          "barpolar": [
           {
            "marker": {
             "line": {
              "color": "#E5ECF6",
              "width": 0.5
             },
             "pattern": {
              "fillmode": "overlay",
              "size": 10,
              "solidity": 0.2
             }
            },
            "type": "barpolar"
           }
          ],
          "carpet": [
           {
            "aaxis": {
             "endlinecolor": "#2a3f5f",
             "gridcolor": "white",
             "linecolor": "white",
             "minorgridcolor": "white",
             "startlinecolor": "#2a3f5f"
            },
            "baxis": {
             "endlinecolor": "#2a3f5f",
             "gridcolor": "white",
             "linecolor": "white",
             "minorgridcolor": "white",
             "startlinecolor": "#2a3f5f"
            },
            "type": "carpet"
           }
          ],
          "choropleth": [
           {
            "colorbar": {
             "outlinewidth": 0,
             "ticks": ""
            },
            "type": "choropleth"
           }
          ],
          "contour": [
           {
            "colorbar": {
             "outlinewidth": 0,
             "ticks": ""
            },
            "colorscale": [
             [
              0,
              "#0d0887"
             ],
             [
              0.1111111111111111,
              "#46039f"
             ],
             [
              0.2222222222222222,
              "#7201a8"
             ],
             [
              0.3333333333333333,
              "#9c179e"
             ],
             [
              0.4444444444444444,
              "#bd3786"
             ],
             [
              0.5555555555555556,
              "#d8576b"
             ],
             [
              0.6666666666666666,
              "#ed7953"
             ],
             [
              0.7777777777777778,
              "#fb9f3a"
             ],
             [
              0.8888888888888888,
              "#fdca26"
             ],
             [
              1,
              "#f0f921"
             ]
            ],
            "type": "contour"
           }
          ],
          "contourcarpet": [
           {
            "colorbar": {
             "outlinewidth": 0,
             "ticks": ""
            },
            "type": "contourcarpet"
           }
          ],
          "heatmap": [
           {
            "colorbar": {
             "outlinewidth": 0,
             "ticks": ""
            },
            "colorscale": [
             [
              0,
              "#0d0887"
             ],
             [
              0.1111111111111111,
              "#46039f"
             ],
             [
              0.2222222222222222,
              "#7201a8"
             ],
             [
              0.3333333333333333,
              "#9c179e"
             ],
             [
              0.4444444444444444,
              "#bd3786"
             ],
             [
              0.5555555555555556,
              "#d8576b"
             ],
             [
              0.6666666666666666,
              "#ed7953"
             ],
             [
              0.7777777777777778,
              "#fb9f3a"
             ],
             [
              0.8888888888888888,
              "#fdca26"
             ],
             [
              1,
              "#f0f921"
             ]
            ],
            "type": "heatmap"
           }
          ],
          "histogram": [
           {
            "marker": {
             "pattern": {
              "fillmode": "overlay",
              "size": 10,
              "solidity": 0.2
             }
            },
            "type": "histogram"
           }
          ],
          "histogram2d": [
           {
            "colorbar": {
             "outlinewidth": 0,
             "ticks": ""
            },
            "colorscale": [
             [
              0,
              "#0d0887"
             ],
             [
              0.1111111111111111,
              "#46039f"
             ],
             [
              0.2222222222222222,
              "#7201a8"
             ],
             [
              0.3333333333333333,
              "#9c179e"
             ],
             [
              0.4444444444444444,
              "#bd3786"
             ],
             [
              0.5555555555555556,
              "#d8576b"
             ],
             [
              0.6666666666666666,
              "#ed7953"
             ],
             [
              0.7777777777777778,
              "#fb9f3a"
             ],
             [
              0.8888888888888888,
              "#fdca26"
             ],
             [
              1,
              "#f0f921"
             ]
            ],
            "type": "histogram2d"
           }
          ],
          "histogram2dcontour": [
           {
            "colorbar": {
             "outlinewidth": 0,
             "ticks": ""
            },
            "colorscale": [
             [
              0,
              "#0d0887"
             ],
             [
              0.1111111111111111,
              "#46039f"
             ],
             [
              0.2222222222222222,
              "#7201a8"
             ],
             [
              0.3333333333333333,
              "#9c179e"
             ],
             [
              0.4444444444444444,
              "#bd3786"
             ],
             [
              0.5555555555555556,
              "#d8576b"
             ],
             [
              0.6666666666666666,
              "#ed7953"
             ],
             [
              0.7777777777777778,
              "#fb9f3a"
             ],
             [
              0.8888888888888888,
              "#fdca26"
             ],
             [
              1,
              "#f0f921"
             ]
            ],
            "type": "histogram2dcontour"
           }
          ],
          "mesh3d": [
           {
            "colorbar": {
             "outlinewidth": 0,
             "ticks": ""
            },
            "type": "mesh3d"
           }
          ],
          "parcoords": [
           {
            "line": {
             "colorbar": {
              "outlinewidth": 0,
              "ticks": ""
             }
            },
            "type": "parcoords"
           }
          ],
          "pie": [
           {
            "automargin": true,
            "type": "pie"
           }
          ],
          "scatter": [
           {
            "fillpattern": {
             "fillmode": "overlay",
             "size": 10,
             "solidity": 0.2
            },
            "type": "scatter"
           }
          ],
          "scatter3d": [
           {
            "line": {
             "colorbar": {
              "outlinewidth": 0,
              "ticks": ""
             }
            },
            "marker": {
             "colorbar": {
              "outlinewidth": 0,
              "ticks": ""
             }
            },
            "type": "scatter3d"
           }
          ],
          "scattercarpet": [
           {
            "marker": {
             "colorbar": {
              "outlinewidth": 0,
              "ticks": ""
             }
            },
            "type": "scattercarpet"
           }
          ],
          "scattergeo": [
           {
            "marker": {
             "colorbar": {
              "outlinewidth": 0,
              "ticks": ""
             }
            },
            "type": "scattergeo"
           }
          ],
          "scattergl": [
           {
            "marker": {
             "colorbar": {
              "outlinewidth": 0,
              "ticks": ""
             }
            },
            "type": "scattergl"
           }
          ],
          "scattermap": [
           {
            "marker": {
             "colorbar": {
              "outlinewidth": 0,
              "ticks": ""
             }
            },
            "type": "scattermap"
           }
          ],
          "scattermapbox": [
           {
            "marker": {
             "colorbar": {
              "outlinewidth": 0,
              "ticks": ""
             }
            },
            "type": "scattermapbox"
           }
          ],
          "scatterpolar": [
           {
            "marker": {
             "colorbar": {
              "outlinewidth": 0,
              "ticks": ""
             }
            },
            "type": "scatterpolar"
           }
          ],
          "scatterpolargl": [
           {
            "marker": {
             "colorbar": {
              "outlinewidth": 0,
              "ticks": ""
             }
            },
            "type": "scatterpolargl"
           }
          ],
          "scatterternary": [
           {
            "marker": {
             "colorbar": {
              "outlinewidth": 0,
              "ticks": ""
             }
            },
            "type": "scatterternary"
           }
          ],
          "surface": [
           {
            "colorbar": {
             "outlinewidth": 0,
             "ticks": ""
            },
            "colorscale": [
             [
              0,
              "#0d0887"
             ],
             [
              0.1111111111111111,
              "#46039f"
             ],
             [
              0.2222222222222222,
              "#7201a8"
             ],
             [
              0.3333333333333333,
              "#9c179e"
             ],
             [
              0.4444444444444444,
              "#bd3786"
             ],
             [
              0.5555555555555556,
              "#d8576b"
             ],
             [
              0.6666666666666666,
              "#ed7953"
             ],
             [
              0.7777777777777778,
              "#fb9f3a"
             ],
             [
              0.8888888888888888,
              "#fdca26"
             ],
             [
              1,
              "#f0f921"
             ]
            ],
            "type": "surface"
           }
          ],
          "table": [
           {
            "cells": {
             "fill": {
              "color": "#EBF0F8"
             },
             "line": {
              "color": "white"
             }
            },
            "header": {
             "fill": {
              "color": "#C8D4E3"
             },
             "line": {
              "color": "white"
             }
            },
            "type": "table"
           }
          ]
         },
         "layout": {
          "annotationdefaults": {
           "arrowcolor": "#2a3f5f",
           "arrowhead": 0,
           "arrowwidth": 1
          },
          "autotypenumbers": "strict",
          "coloraxis": {
           "colorbar": {
            "outlinewidth": 0,
            "ticks": ""
           }
          },
          "colorscale": {
           "diverging": [
            [
             0,
             "#8e0152"
            ],
            [
             0.1,
             "#c51b7d"
            ],
            [
             0.2,
             "#de77ae"
            ],
            [
             0.3,
             "#f1b6da"
            ],
            [
             0.4,
             "#fde0ef"
            ],
            [
             0.5,
             "#f7f7f7"
            ],
            [
             0.6,
             "#e6f5d0"
            ],
            [
             0.7,
             "#b8e186"
            ],
            [
             0.8,
             "#7fbc41"
            ],
            [
             0.9,
             "#4d9221"
            ],
            [
             1,
             "#276419"
            ]
           ],
           "sequential": [
            [
             0,
             "#0d0887"
            ],
            [
             0.1111111111111111,
             "#46039f"
            ],
            [
             0.2222222222222222,
             "#7201a8"
            ],
            [
             0.3333333333333333,
             "#9c179e"
            ],
            [
             0.4444444444444444,
             "#bd3786"
            ],
            [
             0.5555555555555556,
             "#d8576b"
            ],
            [
             0.6666666666666666,
             "#ed7953"
            ],
            [
             0.7777777777777778,
             "#fb9f3a"
            ],
            [
             0.8888888888888888,
             "#fdca26"
            ],
            [
             1,
             "#f0f921"
            ]
           ],
           "sequentialminus": [
            [
             0,
             "#0d0887"
            ],
            [
             0.1111111111111111,
             "#46039f"
            ],
            [
             0.2222222222222222,
             "#7201a8"
            ],
            [
             0.3333333333333333,
             "#9c179e"
            ],
            [
             0.4444444444444444,
             "#bd3786"
            ],
            [
             0.5555555555555556,
             "#d8576b"
            ],
            [
             0.6666666666666666,
             "#ed7953"
            ],
            [
             0.7777777777777778,
             "#fb9f3a"
            ],
            [
             0.8888888888888888,
             "#fdca26"
            ],
            [
             1,
             "#f0f921"
            ]
           ]
          },
          "colorway": [
           "#636efa",
           "#EF553B",
           "#00cc96",
           "#ab63fa",
           "#FFA15A",
           "#19d3f3",
           "#FF6692",
           "#B6E880",
           "#FF97FF",
           "#FECB52"
          ],
          "font": {
           "color": "#2a3f5f"
          },
          "geo": {
           "bgcolor": "white",
           "lakecolor": "white",
           "landcolor": "#E5ECF6",
           "showlakes": true,
           "showland": true,
           "subunitcolor": "white"
          },
          "hoverlabel": {
           "align": "left"
          },
          "hovermode": "closest",
          "mapbox": {
           "style": "light"
          },
          "paper_bgcolor": "white",
          "plot_bgcolor": "#E5ECF6",
          "polar": {
           "angularaxis": {
            "gridcolor": "white",
            "linecolor": "white",
            "ticks": ""
           },
           "bgcolor": "#E5ECF6",
           "radialaxis": {
            "gridcolor": "white",
            "linecolor": "white",
            "ticks": ""
           }
          },
          "scene": {
           "xaxis": {
            "backgroundcolor": "#E5ECF6",
            "gridcolor": "white",
            "gridwidth": 2,
            "linecolor": "white",
            "showbackground": true,
            "ticks": "",
            "zerolinecolor": "white"
           },
           "yaxis": {
            "backgroundcolor": "#E5ECF6",
            "gridcolor": "white",
            "gridwidth": 2,
            "linecolor": "white",
            "showbackground": true,
            "ticks": "",
            "zerolinecolor": "white"
           },
           "zaxis": {
            "backgroundcolor": "#E5ECF6",
            "gridcolor": "white",
            "gridwidth": 2,
            "linecolor": "white",
            "showbackground": true,
            "ticks": "",
            "zerolinecolor": "white"
           }
          },
          "shapedefaults": {
           "line": {
            "color": "#2a3f5f"
           }
          },
          "ternary": {
           "aaxis": {
            "gridcolor": "white",
            "linecolor": "white",
            "ticks": ""
           },
           "baxis": {
            "gridcolor": "white",
            "linecolor": "white",
            "ticks": ""
           },
           "bgcolor": "#E5ECF6",
           "caxis": {
            "gridcolor": "white",
            "linecolor": "white",
            "ticks": ""
           }
          },
          "title": {
           "x": 0.05
          },
          "xaxis": {
           "automargin": true,
           "gridcolor": "white",
           "linecolor": "white",
           "ticks": "",
           "title": {
            "standoff": 15
           },
           "zerolinecolor": "white",
           "zerolinewidth": 2
          },
          "yaxis": {
           "automargin": true,
           "gridcolor": "white",
           "linecolor": "white",
           "ticks": "",
           "title": {
            "standoff": 15
           },
           "zerolinecolor": "white",
           "zerolinewidth": 2
          }
         }
        }
       }
      }
     },
     "metadata": {},
     "output_type": "display_data"
    }
   ],
   "source": [
    "# plot df_noised\n",
    "fig = px.scatter_3d(df_noised, x='x', y='y', z='z', color='z')\n",
    "fig.show()"
   ]
  },
  {
   "cell_type": "code",
   "execution_count": 66,
   "metadata": {},
   "outputs": [
    {
     "data": {
      "image/png": "[encoded data removed]"
     },
     "metadata": {
      "image/png": {
       "height": 480,
       "width": 640
      }
     },
     "output_type": "display_data"
    }
   ],
   "source": [
    "# plot noise_df\n",
    "from plotnine import *\n",
    "(\n",
    "  ggplot(noise_df, aes(x='n', y='eid')) \n",
    "  + geom_line()\n",
    "  + geom_hline(yintercept=eid, linetype='dashed', color='red')\n",
    "  + geom_hline(yintercept=min(noise_df['eid']), linetype='dashed', color='blue')\n",
    "  + labs(x='Number of Noise Data Points added', y='Estimate Intrinsic Dimensionality')\n",
    ")"
   ]
  },
  {
   "cell_type": "markdown",
   "metadata": {},
   "source": [
    "c) Is there any threshold number of noise size for intrinsic dim estimate ?"
   ]
  },
  {
   "cell_type": "code",
   "execution_count": 83,
   "metadata": {},
   "outputs": [
    {
     "data": {
      "image/png": "[encoded data removed]"
     },
     "metadata": {
      "image/png": {
       "height": 480,
       "width": 640
      }
     },
     "output_type": "display_data"
    }
   ],
   "source": [
    "# # generate finite difference of noise_df\n",
    "diff = np.gradient(noise_df['eid'])\n",
    "diff_df = pd.DataFrame({'n': noise_df['n'], 'diff': diff})\n",
    "\n",
    "(\n",
    "  ggplot(diff_df, aes(x='n', y='diff'))\n",
    "  + geom_line()\n",
    ")"
   ]
  }
 ],
 "metadata": {
  "kernelspec": {
   "display_name": "default",
   "language": "python",
   "name": "python3"
  },
  "language_info": {
   "codemirror_mode": {
    "name": "ipython",
    "version": 3
   },
   "file_extension": ".py",
   "mimetype": "text/x-python",
   "name": "python",
   "nbconvert_exporter": "python",
   "pygments_lexer": "ipython3",
   "version": "3.13.2"
  }
 },
 "nbformat": 4,
 "nbformat_minor": 2
}
