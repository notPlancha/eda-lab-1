{
 "cells": [
  {
   "cell_type": "markdown",
   "metadata": {},
   "source": [
    "# Dimensional analysis\n",
    "\n",
    "The nearest neighbor approach:\n",
    "Similarly as in example 2.8, study the following curve:\n",
    "\n",
    "\n",
    "\n",
    "$$\n",
    "x_1 = \\frac{t \\cos t}{1 + t^2}, \\quad x_2 = \\frac{t \\sin t}{1 + t^2}, \\quad x_3 = t, \\quad -2\\pi \\leq t \\leq 2\\pi\n",
    "$$"
   ]
  },
  {
   "cell_type": "code",
   "execution_count": 19,
   "metadata": {},
   "outputs": [
    {
     "data": {
      "text/html": [
       "<div>\n",
       "<style scoped>\n",
       "    .dataframe tbody tr th:only-of-type {\n",
       "        vertical-align: middle;\n",
       "    }\n",
       "\n",
       "    .dataframe tbody tr th {\n",
       "        vertical-align: top;\n",
       "    }\n",
       "\n",
       "    .dataframe thead th {\n",
       "        text-align: right;\n",
       "    }\n",
       "</style>\n",
       "<table border=\"1\" class=\"dataframe\">\n",
       "  <thead>\n",
       "    <tr style=\"text-align: right;\">\n",
       "      <th></th>\n",
       "      <th>x</th>\n",
       "      <th>y</th>\n",
       "      <th>z</th>\n",
       "    </tr>\n",
       "  </thead>\n",
       "  <tbody>\n",
       "    <tr>\n",
       "      <th>0</th>\n",
       "      <td>-0.251711</td>\n",
       "      <td>0.431514</td>\n",
       "      <td>-1.042732</td>\n",
       "    </tr>\n",
       "    <tr>\n",
       "      <th>1</th>\n",
       "      <td>-0.297543</td>\n",
       "      <td>0.116405</td>\n",
       "      <td>2.768679</td>\n",
       "    </tr>\n",
       "    <tr>\n",
       "      <th>2</th>\n",
       "      <td>-0.155257</td>\n",
       "      <td>-0.000223</td>\n",
       "      <td>-6.281748</td>\n",
       "    </tr>\n",
       "    <tr>\n",
       "      <th>3</th>\n",
       "      <td>0.274183</td>\n",
       "      <td>0.211756</td>\n",
       "      <td>-2.483962</td>\n",
       "    </tr>\n",
       "    <tr>\n",
       "      <th>4</th>\n",
       "      <td>0.057887</td>\n",
       "      <td>-0.206433</td>\n",
       "      <td>-4.438996</td>\n",
       "    </tr>\n",
       "    <tr>\n",
       "      <th>...</th>\n",
       "      <td>...</td>\n",
       "      <td>...</td>\n",
       "      <td>...</td>\n",
       "    </tr>\n",
       "    <tr>\n",
       "      <th>495</th>\n",
       "      <td>0.116779</td>\n",
       "      <td>-0.134623</td>\n",
       "      <td>5.426927</td>\n",
       "    </tr>\n",
       "    <tr>\n",
       "      <th>496</th>\n",
       "      <td>0.123673</td>\n",
       "      <td>-0.125652</td>\n",
       "      <td>5.489850</td>\n",
       "    </tr>\n",
       "    <tr>\n",
       "      <th>497</th>\n",
       "      <td>-0.082478</td>\n",
       "      <td>-0.203297</td>\n",
       "      <td>4.326978</td>\n",
       "    </tr>\n",
       "    <tr>\n",
       "      <th>498</th>\n",
       "      <td>0.098360</td>\n",
       "      <td>-0.154106</td>\n",
       "      <td>5.280471</td>\n",
       "    </tr>\n",
       "    <tr>\n",
       "      <th>499</th>\n",
       "      <td>0.259091</td>\n",
       "      <td>-0.073862</td>\n",
       "      <td>-3.419306</td>\n",
       "    </tr>\n",
       "  </tbody>\n",
       "</table>\n",
       "<p>500 rows × 3 columns</p>\n",
       "</div>"
      ],
      "text/plain": [
       "            x         y         z\n",
       "0   -0.251711  0.431514 -1.042732\n",
       "1   -0.297543  0.116405  2.768679\n",
       "2   -0.155257 -0.000223 -6.281748\n",
       "3    0.274183  0.211756 -2.483962\n",
       "4    0.057887 -0.206433 -4.438996\n",
       "..        ...       ...       ...\n",
       "495  0.116779 -0.134623  5.426927\n",
       "496  0.123673 -0.125652  5.489850\n",
       "497 -0.082478 -0.203297  4.326978\n",
       "498  0.098360 -0.154106  5.280471\n",
       "499  0.259091 -0.073862 -3.419306\n",
       "\n",
       "[500 rows x 3 columns]"
      ]
     },
     "execution_count": 19,
     "metadata": {},
     "output_type": "execute_result"
    }
   ],
   "source": [
    "import numpy as np\n",
    "import pandas as pd\n",
    "def generate_random_numbers_from_these_functions(n = 500, lamb = 0, seed = None):\n",
    "  if seed:\n",
    "    np.random.seed(seed)\n",
    "  theta = np.random.uniform(-2*np.pi, 2*np.pi, n)\n",
    "  x = (theta*np.cos(theta))/(1+theta**2) + lamb*np.random.uniform(0, 1, n)\n",
    "  y = (theta*np.sin(theta))/(1+theta**2) + lamb*np.random.uniform(0, 1, n)\n",
    "  z = theta + lamb*np.random.uniform(0, 1, n)\n",
    "  df = pd.DataFrame({'x':x, 'y':y, 'z':z})\n",
    "  return df\n",
    "\n",
    "df = generate_random_numbers_from_these_functions(seed = 1)\n",
    "df"
   ]
  },
  {
   "cell_type": "code",
   "execution_count": 11,
   "metadata": {},
   "outputs": [
    {
     "data": {
      "application/vnd.plotly.v1+json": {
       "config": {
        "plotlyServerURL": "https://plot.ly"
       },
       "data": [
        {
         "hovertemplate": "x=%{x}<br>y=%{y}<br>z=%{marker.color}<extra></extra>",
         "legendgroup": "",
         "marker": {
          "color": {
           "bdata": "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",
           "dtype": "f8"
          },
          "coloraxis": "coloraxis",
          "symbol": "circle"
         },
         "mode": "markers",
         "name": "",
         "scene": "scene",
         "showlegend": false,
         "type": "scatter3d",
         "x": {
          "bdata": "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",
          "dtype": "f8"
         },
         "y": {
          "bdata": "3CUS1+2d2z9sGtHxr8y9P3Ytw4eRPy2/c8moSdIayz+UU++3ZmzKv2Sh9rbvEca/lKIQ+hznxb9mTCdarUvYP+UzwCCny90/tGy/uk2jxz/DFvpl/i/bP8SQ/9mF4NA/HjQKiLFnwb+/FHfCscbJvxJM9C4vSay/zydZ6GWi1D/PTFXtMZDbPxUo0qbpjtQ/SUq+Hsx/yr/cBD8blCXDv9hieFAH2MK/BPYpfr5rsL9APlEBA4XQP2Hit2//+s0/A1SRCHzmyb+/LXmxFg7IvwGoW3YFwcS/oUabtiM6tL9aDqodsqbIv/LnZVY2xsm/HLeA1c8Lx79yg0KptsbaPzodDkwpzbW/63L1bClmwj8RO0YLEjjOPwHtGk70EdE/eZPCLROK0D80S4GBYS7Jvy32vftzwaK/j+7SY9UqQb+FTj7W5KeWv7dqbrZlc3s/yeRzHqidvj8XNWWt0QS/vxHQfB3Twse/kPdwWb/c0T/4a4+Cx+jFv6tuqSoaY8Y/Fnp7o7k7wz9HIqIu/0LKvzn1pMD94aO/Bhcb8zyJ0j8Ts8uZAHG+v36iM7UVQK4/2R0LFSirhj/hA3Uk+Hi7v/9W2wkZndk/QcS2UpRsyr9wPzeVzKTcP2sw68SP+ck/7evEFMWix7+9pLQnqyPcPyDVFXqJ3cw/BVg1eHse3D9sbu/yf8e5v6uffjlO6sQ/3fRoeqo51j+z1eo1cjehP7ODzhqDeby/fGyibOY83D/HwUglzMXGv7HVmJIResq/SQuCAK5+yr8jZ/TXY4HEv7dzAbmPw90/qxXE3fAuyb82z4p5xTHCv5wD/5BawNg/gH2DdzUZaL+sNZ1n+9K3P7b5/gdQVsm/axNxJHwe3T+1UfBUMvRrvx7jYbDp+tg/ItXrtRmZsz/tU6jNHOLHv+m0EyOSAtk/7B9VhME0sr+LrlMLmk7WPzF2qksvSt0/xOkICbglyb/KHAZKyQ66vw0Erosd/NA/mwcaLrmp2j8SgNtHavfcP5b+XNJsCae/DawfWrXGxr9DSDnvSn/ZP2lXQCG7DXe/hGUgbHSa3T8aPQSE/OvTPz8y6kCbBbo/4fYnybwTyb/fnlJoSYzaP1Dmsul068W/M66Wkrol3T8J7/N45S6gv69S3tOsxcG/jpkumD++zj80//q7qH51v87yM8TyT8i/sNJWBNF4yr/nfRVo4xDBv7xVnV0mkMs/Yr3vvhC/wL8S7vZgD/KTv1oOz5/WdYy/mZYq+9klw7+U9aFfRZzDP+p5lBLe8cm/+ciWzV1rpL9TRWDpZg2rv4gqUhi8P62/IXnrzvbTi7+SMOfPiH/Kvz9sGpy7psc/aKGEowor0j/LaFy9e9zJv2ItadM18Mm/EQK0ZSZHvT8BgS2D4hvcP680DAUxcq+/kQBxnTVy1T/UbKtYcyGjv0bFeCZt0MK/0nWcgx/Brb+xy7nyJXDEv561btHcz90/OFjwMPN1yr8BjGuct5uFP8K8+VNoltM/C//owu91yr/nF+6ltaa+v4PG5JwxvMm/zcRe+uQMt78HWMTiYFPIv59hQWRslrS/y85JPGTSwj9jko8P7fPUPwLGEjH3lZm/XkA/4fYUwr/uJcWoh++wv7yanUlX39c/dgifl4i8wb9CiqgW7G2BP/WVnm37aJc/QJ3akTDTw78cjUa990zbPxQBaBuAAK+/srGPHn0ryr8/5wLPqDiiv+NC+Lm47Xg/jj6QoEts3T9K+AFxi37Iv9d7KFJR8sm/mi1ofXAOo79SMTf+DafBv3BTNuoMJZ0/3A1iYUjc3T+oA20iOxvYP9g7uLGSjdE/JTtbS2Ipl796ZA9DofbaP+U89n8Sbt0/qxqB14Fc0T96WGP/FJyRP389CIJS79Q/srpUqbX7rD+QBj8rpNLAv4+QcTe/c9w/SfeYzeV53D9pv7Mt+1y/vxgWV/lLT4S/vhnrzmnewL/epqx6jsqjPyyQtirX3sO/ypVzrV9PxL+KjaBmcRjbP3IAEzPHFrY/Igg+cgbGwr+/2A1/hripPw91o7XGvMC/uw5HXzADrT9qnj3dIfiyv3CpQEosC8a/dJ8squ40wb8QipxFr3qcv55Ia6wwe6u/xJodXqOf3T8B0u8eKEu6vwFCFM/mtrm/s6r6YgfB0z9ecC7NTaHEv4IvawlVv9o/zBuTGODa3T993hKwl5+eP3ihJGVX090//WUZlye/0D9KvzRKF3vCvyvC6PA/BcS//0+PjMvX3T+pBTZzvQazv9eql/guFMi/j5eYz6MSyr9sIkGcoG7KvxnWUTx2nXQ/fTA/ugQkpr9QN+NLRNC6vzKV1OUpPMi/t9fM+G+ynr8vBthgJrzHv0ORZf5dP9U/ZlbGjGJNyr/JKWYN9vzEvwb0KI40H9g/zEJ97KOjvr8nPMUyam7bP2ip9pO3uMm/V0slIz0Myr8wBVCXXnPGv8EharQg28g/+gWGlWSezj84fWvQDUTCv5G9BdaRIMI/LvcM1igxjj/sAl0/85rdPy4ezyZWxJ+/++3jeNok3T8b+j2d5EzXP7ULmXWKf8S/7iHj88H/0D9chIIgBkfIv2+KdDFsito/AD0dCG5axr9bVznaOyi+v+TJULqX0N0/Amff6OC9u7+HftKEAPraP2kDsFbqedI/1AW1CfALxL+i8j3KO7dJv0lF4mJD8Ke/ASrWIlsk3T8fu3oY3w6rvzjxzZK01d0/PxwDOOB5yL9iW9/D1MTZPz/Rr8AFq9w/t9cbmfgMwj9if2apIUjcP0M+3fhLuBS/YceDQmx/yr8KafsabJSSvz/+rcLu5Mo/JDkqHTBxyr8d2XiVbOzSP29oH7JFjtQ/z8g6X0mP0D/geN2DNI/dP5hmBRe0oNw/GGPgE2uR3T+JgC15Ao/RPw3841iARd0/mp8b/YRh2D+7VHoy5Qmrvz1px438zNI/t7KDaUkGw7/hoTRYEWXZP8M4ZGgj09c/GuigKaT/wb8iDL9y3aDJvzCnjKbSs8a/F6qtPC151j9uxFo4DeOzPynAW88VvYE/IpBiprN1yr+pACoKyCK7P8rscBkCN8O/FpHPxics2T9T7ZZBe3SwP4rpArESYqs/P8Ws1uz1sb9ANEyUvxvYP8e6ZDcibsM/M35enLyu1z+02MabYz/Bv/YLBGEvQt0/XpOm1BKxw7/1L8peH5qhvwOhFhStzsa/IZ3CgheCxb/aVN+Qkf7Jv5f8T+hyCNA/n7XFW41N2D9TYbV5lJ3Jv/4pYHCTW8I/Yq+icsI22D+1wCvBzBe1v6m7wFRCCt0/WxoVAdU20D/AMWt97H7Ev3HgCSJAusW/O65uRcwQmz8xil/qlbvIv37F/lIKbMS/2ZD9Foeh/D4yf5ikCSK1P1KFKEdRS8C/Be5lTX4Qfb8Z2C7AwGDKv0iPaaIT1ds/j+RIDu2g3T/fyl7F7Z+sv8hhn9lilce/Nn3h4Jpsoz9GlNKXGT+zPyM5rcA0Msq/qUd9A+FH3T8+HbTxrXnMPxSD3bnaW9g/Fg2ciid4yr8qWlwUVp12vxv6ksaVTre/AwZnTZBOrD9g+v89am68v+K7Xw8K/Ka/258nVYNZ0z+1BmnGhB3Kv6R4qpTWC8q/S87mmE5Jxz/WFVxM+GLKv0oh10JK5rm/NR19Tt8hyL9ZtgpgrXHKvxPNkuBeG8e/WJ+epIDw2D/uhBZKv/DHP6EtopL62d0/lnuHJaOKwr/3sniBQuaxvzpi5130c7G/DnD1VMrlsT/OmDhlYpOiPx/9XEkd4Jo/DZjvVSIm3D+DfCcohT3YP+j2KMD1s8G/ux2BL6Ka0j+xIuPYtLS6v0vBvQccVpO/ILzjOH36yT8sGVCaLH3Kv8K1LvRXGce/+yl4IzQzyj+OCwmCCw6qv0EtFY9xits/peRsvbGTiL8TPu35A17OP78HshdA9rg/BtDf0qpwyr8uTT8vwEXaP2UztMdvD6u/LUfzeHaqyb8B2LiConOQPyPxzxv4cK+/gg2/rFX+2z86Nt5YrnrKv2+4rL5Hys0/gNrTVRC4zj+Z42yjyGbFv37f9FqcU9Q/eZZAHTlY2z86N40/odGUv6LaeKvaj8G/Xb4vOLi8gL9Lyp4S4XmnPxdGEj0IgkS/+HGwZSKQyz/lKhBvPje9v0d1lGtNJYc/cj/L5HQ6vr8m5fuVGUTCvwhc3cJZZsg/KPfmncuDrL8fomQtjiPdPzOZKe1f/cm/TCZW74V93T+8xWFd595AP6/7QWtdn5M/qZ6WZBmiyT+iAGfzxgG1v8egZ4VQrMO/6CiKIPa5sL9JPkyilMPEP2fgbhpkFcQ/KnaQWLMFu7+wWUAHFsG3v4PR0LphrLA/jZaN1McPxL8kztVLFtzYPx1X6Q1cg8i/hajCh6/y2z8r6S3rwWvDv6qbLNiWkss/IReoBYtsrL+e8THoqqHXPydXEhmHHcq/gbBqYArR2D/AxBpsf8THv/CXlI4919w/ycdw0RF8yr+luAjZeHDDv0OYxmpQzaK/fQW5JGfpwL9w3Af2BRHKP/HbjCaUAMm/XG+KLWGzrL8Pp9SsXcmRv6gqqQ7q190/bA+wzRH/hj+9g1XK2r/PPypUUIxw6NA/3m7z/4PWsT+PQjwIoz+4Pzs2DJ7MeMO//iGPll+B3T+FrkBY8ZDGv9GrdVi+MbO/ImB2V39FtL/eomBrJQjKv72MF/Rhhd0/COeim88Olb+2KT+w+HXHP0AttEriPni/IP3unUA0ub9tBZjL9XLGv6zPaU+OhsG/qOstRYaxxL9mj4sBcHPKv9Vf00kL4cm/cby0DeCdxb+Eh4pVHjndP/tEIui6Yca/i3w9OlNmlL/dAvAOzdPDPxF+JMP70rE/mKHIjaXJxb9TsvPyMpvdP37FXOwrw0G/Un7+tvcnyL9c1Q3ASZXJvxbw+Xr5qsW/SSfoeilsyr8Vn0Yx07qrP2CXUE9s78a/hEu6h9yIzz+8JvSJ2wSiv4bm//qHO7A/7sSGwW7Ywj+W8G4faMvQP8JCuTGIhsW/gIITf8/+2z+hu/yp91PXP+XY3yxSxZc/piJ2Qfw3v7/z+PEzEAKwv7dhL1g9vMA/d5C9PTKCyL8TitzpPy6sv8u9OgHbBbI/nfjO7yTC0z9DN0EJ13/Kv/FxxaqufdQ/5GiqrasZzz8gxgdzJ1jPP7Q4VNY/pNw/qdJJ5z98xD++dta/h/eSv+sILdq1R9o/LNhWBoX9zz9UOK3o39emP6W/Sqz3ecS/G0kOmrJ02T9m6dF/yjODv9ruK3SLmNw/dqzdS1Q7wb81XRutWhXAvx5BwXmgBcq/UwQKBLy5w7+WGJXMmeiyvw==",
          "dtype": "f8"
         },
         "z": {
          "bdata": "jGfMAAiv8L8E1SdNQSYGQCucSI6CIBnAC+dNjCffA8AGrkFFiMERwJ5od6fFfRTAfUapYWKKD8DES0SVRg3/v5x4osqRwfS/MER5h+A33z8Q3vhJNT/wvyzrzqjLngJAVH87ATK2DcAcXZ/zmQETQDuvCSiPwRfAJHbHryMjAUAcK+mieaDwvxCUC6K/mec/bitJ3XwTEsDi79ZWo1kOwBw3krXwOw5A7CuMp5KJF0BDL9uks8ECwDgRFc6ZVQNAcA74o1zrEkAIz9G9yNUTQPYnW82i2xTAuexYHW0rF8BKOVswnJgQwGRJB4fsARNAarMzUnUwFMDI+zM/ebnvv7o5bRMbBBdAYESfmFCs2j80ZaWpIkoDQFpdV1LgiwLApFkkNsa/AkAM/3xw89EQQMgUSBymNhjAFPojIrIlCUBwOQ6LpZIYQDh3cO7F8ghAw4mqNnoSBsBs6b0m3xQNQBK/Vlus8RPAWKb6mwj05L/sIRLCyokUQAOQtf2HvwTABBXJY8xVBcAXEKBhx5gSwFjs97jEKBjAOLibi3/6AUAyh/eLhP0MwJJVocLfkQfAwNg9/usbu7+yyi+BUHMWwNh+vO7wze0/Op4rQeLBEcB0Jiq4uPTxPwDKcXH3FARA5twZZCX9E8CQBTWZskfxvyiJP3oRiwNAmJkGJFpB8b+/rjO2Lp8WwCCOeUae3tw/PPt3M2h3AEAge8cs9vLHP6gR3XIHWRZA6KBA/iVn8T+Y5FAM9kYUQNzD3Ff2OBLAs1V3X8chEsDMLBPx/+YOQNRoJk7DkvS/XGE/wTXSEMBYpSQxKn0VQNCjlwDGm/6/SLuLyeE2CUBYWS+FRLgGQAg1UGleRBNA1GAzRqPd+D882n91PDoJQCwpOoR7Yf6/SIzldR4hB8BgH03ZP+YTQKhNLT+P6uy/WuurdYtdF0AsiJGGUW4AQFyuUIPnd/g/FiWMTG9dE8DUMbjpApgWQOBCvw87JOS/+MRIs7eF7z+c//97Xnjyv3lK27zabwrAKNuCRqxGFECQB9zt1qDtP/971uYL/RjAXCcYeKqN9z+QIJVDdG0BwDCI+TnswtU/3DMc8klmE0DgJncPl7L8vzC8L/IDiRRAVDtn6ZLN+D8bACADZVYYwFQVKo/7lRVAzHM3vegwA0AiZUdEiP8YQIlBMnVPeBDAOhc+7VI9EsC8DNlkn74VQKhfPT9MyQNA4HkTprHQFcBsExwXlK4JQJAD5jK9hQlA2hCB23ZDFUD4pPMmyUMFQKSxzBfe4hLAoKIMOCoiGMBgwaAhs9AXwDzSYSK8tRfA2VE6Un6DCcCoKOSV0xgSQMDFRNfTOt8/aGoEu7A95T/0guu0PTERQKo918If5BLAjAwcqOkyBsAYI9NOMD7xP6BeH6+9mhdASCrEVK2K6D/Yohp0BzIYwOQadn4POQ5A1n7kkyfYCsA4pPcLo98OQHRjc0MFjPa/LuDrFgtGEkDQzGGR59cIQOg23waUneY/xBM3tRRGEsAMFIiO9h4WwGARTOGJCBPA8vwzl7DkFsDdezNQwLoTwDAzhdsfkwvA4G/eBnhpBUC4eDrRfAPoP8XoqG9pgBjArnrqwNGDFcBQ/TEP5XwXQFjJMJqDYus/Iv58DgbUDcAkd15mIOYIwKDrS5oVgwhAUX3ilmeeDsDEClPgsVvwP65cqjczoBdAwk74+PpuEUC2mVdTQicKwEC9ICHzCrS/BI2/3Vce+D+MKxtwUIkQQKroyFNlQBHAif39oPEyGMBQfy568JwVwICU9Fm99sW/kCfMevlg9T9YKE9+0q/rP7/uKANZXALAXmkorn6PGECMfYJgogjwP5ynQCdbGfi/sJzEcMx85D9YC8606KkIQJSxhopdAwFASqUBWwOiB8D+HeM0Y8wVwORS/dcBH/q/rG1L88wU+j8ZBn/G8CINwEgBFAPmaAlAt/oJ8crJFcBTs4JcgxgIwBDaZiYkow5A4EXvv8DRDsBwNQFjTwr8PxBSMGNO19M/hnqc2GlaFUBwLxPsxssHwM8UimQy0RXAlIU29qOhB0BwBt//wFwLQDhPJW/CfxRAuJKPz5m2FUCwBYETdG4YwBrbdh5wtArAqByGbcx69z96vQ/27JEWQOjRapHZoBZAOAYz2hbI5j9oKTrhAeQUQHjyv9ysdvw/YB4Tw4Ed9r/gNyfSsIjGv8QHwc8N+fQ/+ECMkqXs4z9QRrhIFmwVQGZfMh8/DBVA9C6fdfIi9b/Qe7XMPkkXQEY4Lc6GYxDADkm0y2DIEsASQ3q/yVcSwEDX3hsTN7I/+NExWAANGMDiZ2fedoQWQKzTo1hPcRBAXC+t0rdgGMBSQkbcsUYQwFr9YOX/4QDAutzgslGMEsC4AEKlBx0PQChg3j2xN/+/gKlSekkfFkC8NZUBbH3wPwqRldDLChNAhphbvwdUEUDAWRfVkmAUQKC9A/8SIuC/kBIG9Byj4j842EMZ1wQOQONrnVe5igXAQDMaS7Vav79MP34rZO3zP/tCOaIZWhjAvAReUanL8j/YteRBmqvqv/T/o0g15g5Awxi+pNiSAsAo+dx0rb8TQCigsxLpTu8/5ur1VkrED8C4uwcxIPIMQOzA/M9zhvY/kb44ekdsFsCkcjN9xwvwv3Rub6SAAAJAMuRWao0KFUB45rP6zhwZwHahXVnr9hdAcGSn2KPQ+L94nK0YodAXQOCorY7uDfU/gutga5OHEEC4dv5OFAvuP9gGNMNRwPk/plx6pmSOBcBA294YeXXxPyzqkreKIglA9tKP9cQCEkCE4lfOxqQJQMyBHtgv6QNAlv1DphtSEkAKH20LeNMBwJRpM2loKwFAMO0fGjjB47+YRwbTY7T3vwgvlIa07vG/9Ei6SwfP878dWtQey1sCwMylEHlqg/g/uKdmxpoM7L+yQF8r3tAXQEiqgOre3wFAlGaXVpVNDsDgAkl+q3ntv+DYUW1Cf/+/bImEsgLsDUD01zPazRkTQGQhCqGfTBRAhN50xr5bAEAK2BNF5xkHwJvML48S5QjAbCyhU9DWEUBghZzPGErWP3AGakZlYA5AAD3Omzwm7T9wa4eWI3AHQCDHZHyClM4/NGk+1HI7C0CgDWs0f7DrP/AQDY3nk9u/mNsU9Beh/79tYGQvRLQVwBC7yAR4i/i/Otj5NVshFcAWQf9830QYQHURmoT+ABDAsHHaAflZD0CGO9Il/tgSQHw0z1398AJA8Ka2NQPy6z+ITx9wmwoRwKCroI38otq/0H7eFUgh/7/dcg4BWqQLwCDaV+XBmfI/FUDF5WjfAsBKzhgyAe0UQEqH9MsslxRA8Yh3LslqCMBKfuNaCY8TwMPnMYPj3Q7AAARXLUxndb/8OZYz3foGQI4PnvriVQ3AguMiB5dUCcB+LsIETa0RQPw0Uyhs6/C/zImrKv919z/9iidLWcYKwCw7g+veARTAQNysP4WByT8QHaATYmLSvwacoZpodRHAIDphs5d9+D8gu0SYkLLhP9B6liq8/f4/ZGrVmvndEcBg8QoyTUkJQBjjlbNS8QvAoPOkH5ggzz9w1DeWW64MQCCNlnaiAhjAbM8n5jGoAcDCBlpkwL4SQHzFR+21UxFAQClDLW/q3j9m5SF8gG0SQMbeEEsWnBZAQIVgfjFoEEAaCreevswRQAzShvJaKxTACJxIHepr/j+48VTHsnUEQFCPZ4xMKvY/8IruYuAeDkDqqvDcHmUXwEBTUifYKgtAfNNfF8BLB0Bk1/V1YigIwBeF0voLbAjA5CehpOWZ+j/EJ++T0xr/vwDG4gz80A1AuNANFein5b/kqFN80WwMQOQM131fpxhADLjGTcsUBMCsurm4yfERwD7bbLYFLBRAWOQmzUa24D/65rwX8dwXQLgR9R9Id/s/5C19n6fTGECIcrAMs4biP+B8kGrEQNU/Z9Kd6UxTEsDo2R5UHwP9v4zC8iia0BfAlw92vgUSEcDYudprs7EIQI+JHbbMmhfAoGg0M0bV+r8MLTqKqDYSQDS8ZFu9XgNADP5IshIyA0C1VhB3OE0PwNCaKrmWXOe/GI5IvvBm8D9IxBVrG54YQJ0eYG4/xA3AYjCE31NcCcBvrHk3sugHwMhaqEFrJglAyESRjB5N4b+EhhRzakUWwEB1ng6MZbs/D8Db4Pj0DMBs9Khn2wQOQIAQ22HdXwTABGZBpL++F8A87dwyJMnyP1iF/q2GSBFAxI4QGVLs978gUO3SVR4JQICZfsXH68E/SCY2DLt34D84Z43s+xcXQLAfNh+3jg5AZVX5uQyCF8AMuXZnxgwFQJCz3SjBJdy/1s5NHwt/FkDNmWDTLwEMwNTImhSeagfAbMND55MJFcC4wR0SPrTsvw+f7dwhpxPAqFtTq0Dm+j8I+R4uCnUOQPRhTdzXyANA1E1HWTLDCkAEL0m1La3/v1qEyn1nYhFA+P1Vcs6k7L94xWHhWEkQQOjdcuf9bvk/wrGNUGvsEcBFpA9PTTEVwG5lI/YTNhjA6HZ07l3HFcBo1Zopiafgv6Ct7YSAbxPAHgJrdXe8F8AInzqzGJ8JQCRy8J89JPW/3MT96zDTCECotqGlnyPjvyhIVl5BEuS/wDifTZii0b/Q2hCvQ+jUvxDQuIwweg5AnGNzuAmg879qPECbfFcUQNaR7d8URRfA5BYU/GiIC0D0I/WoO9ESwPzlte4c1Pc/M5C0ZJ2cGMAA0zkU3xDfP7/VnJQl+xjARKV69vGtFkAk3ePVsmAUQGxpXc77wA1AikeFG7zfFEB6mHCZ8dARwLTGBSVRNBHAxzrnpRZnD8BMdxhZF6H4P7bj5xjxZRRAJv/xsLmgGEDswAykbjkFQEBhjzGZTQdAnuwRIMWSFEAYAKh4Nu7zv919bxvTJQnAn6ir5ElqEMCilwAT0CATwLwcZcJSbQ9ADRjwFhDBEcDbuxPVBbIHwNyD5iQHChBAZEAocbYKA8B0EArquj8YQB2d1PLEdQfAkHCU3MwQ2z9TELAL3aYCwHxZME/PpRRAcLr7spPU+r8Qg/yHQLTqvyDVzUDSxcM/ZHiyPpMPFkBRoXsnu5MXwBQKNs6SzQVAVjBXHZ6nE0Awz0fL2cIXwCAgnAYTvNE/uEHYQVB+AcBw/ww95RESQKjS9yXph+c/AESyxrAfA0DII2V/b/Xiv5TSRtZNzPk/lFfPVg0aBcACZ5RBr6kYwODPaWKK3e4/CboDb6j0AsCA2kjLXMbLPwY9OppL7hRAQOd9OfWQ7b9e8U1G/2QJwIyc96y/4Pm/Gk2eTyy1FUB0rE48m/UVQFaxLEHTThFAjGRTvDMfFUDIceL/vFoLwA==",
          "dtype": "f8"
         }
        }
       ],
       "layout": {
        "coloraxis": {
         "colorbar": {
          "title": {
           "text": "z"
          }
         },
         "colorscale": [
          [
           0,
           "#0d0887"
          ],
          [
           0.1111111111111111,
           "#46039f"
          ],
          [
           0.2222222222222222,
           "#7201a8"
          ],
          [
           0.3333333333333333,
           "#9c179e"
          ],
          [
           0.4444444444444444,
           "#bd3786"
          ],
          [
           0.5555555555555556,
           "#d8576b"
          ],
          [
           0.6666666666666666,
           "#ed7953"
          ],
          [
           0.7777777777777778,
           "#fb9f3a"
          ],
          [
           0.8888888888888888,
           "#fdca26"
          ],
          [
           1,
           "#f0f921"
          ]
         ]
        },
        "legend": {
         "tracegroupgap": 0
        },
        "margin": {
         "t": 60
        },
        "scene": {
         "domain": {
          "x": [
           0,
           1
          ],
          "y": [
           0,
           1
          ]
         },
         "xaxis": {
          "title": {
           "text": "x"
          }
         },
         "yaxis": {
          "title": {
           "text": "y"
          }
         },
         "zaxis": {
          "title": {
           "text": "z"
          }
         }
        },
        "template": {
         "data": {
          "bar": [
           {
            "error_x": {
             "color": "#2a3f5f"
            },
            "error_y": {
             "color": "#2a3f5f"
            },
            "marker": {
             "line": {
              "color": "#E5ECF6",
              "width": 0.5
             },
             "pattern": {
              "fillmode": "overlay",
              "size": 10,
              "solidity": 0.2
             }
            },
            "type": "bar"
           }
          ],
          "barpolar": [
           {
            "marker": {
             "line": {
              "color": "#E5ECF6",
              "width": 0.5
             },
             "pattern": {
              "fillmode": "overlay",
              "size": 10,
              "solidity": 0.2
             }
            },
            "type": "barpolar"
           }
          ],
          "carpet": [
           {
            "aaxis": {
             "endlinecolor": "#2a3f5f",
             "gridcolor": "white",
             "linecolor": "white",
             "minorgridcolor": "white",
             "startlinecolor": "#2a3f5f"
            },
            "baxis": {
             "endlinecolor": "#2a3f5f",
             "gridcolor": "white",
             "linecolor": "white",
             "minorgridcolor": "white",
             "startlinecolor": "#2a3f5f"
            },
            "type": "carpet"
           }
          ],
          "choropleth": [
           {
            "colorbar": {
             "outlinewidth": 0,
             "ticks": ""
            },
            "type": "choropleth"
           }
          ],
          "contour": [
           {
            "colorbar": {
             "outlinewidth": 0,
             "ticks": ""
            },
            "colorscale": [
             [
              0,
              "#0d0887"
             ],
             [
              0.1111111111111111,
              "#46039f"
             ],
             [
              0.2222222222222222,
              "#7201a8"
             ],
             [
              0.3333333333333333,
              "#9c179e"
             ],
             [
              0.4444444444444444,
              "#bd3786"
             ],
             [
              0.5555555555555556,
              "#d8576b"
             ],
             [
              0.6666666666666666,
              "#ed7953"
             ],
             [
              0.7777777777777778,
              "#fb9f3a"
             ],
             [
              0.8888888888888888,
              "#fdca26"
             ],
             [
              1,
              "#f0f921"
             ]
            ],
            "type": "contour"
           }
          ],
          "contourcarpet": [
           {
            "colorbar": {
             "outlinewidth": 0,
             "ticks": ""
            },
            "type": "contourcarpet"
           }
          ],
          "heatmap": [
           {
            "colorbar": {
             "outlinewidth": 0,
             "ticks": ""
            },
            "colorscale": [
             [
              0,
              "#0d0887"
             ],
             [
              0.1111111111111111,
              "#46039f"
             ],
             [
              0.2222222222222222,
              "#7201a8"
             ],
             [
              0.3333333333333333,
              "#9c179e"
             ],
             [
              0.4444444444444444,
              "#bd3786"
             ],
             [
              0.5555555555555556,
              "#d8576b"
             ],
             [
              0.6666666666666666,
              "#ed7953"
             ],
             [
              0.7777777777777778,
              "#fb9f3a"
             ],
             [
              0.8888888888888888,
              "#fdca26"
             ],
             [
              1,
              "#f0f921"
             ]
            ],
            "type": "heatmap"
           }
          ],
          "histogram": [
           {
            "marker": {
             "pattern": {
              "fillmode": "overlay",
              "size": 10,
              "solidity": 0.2
             }
            },
            "type": "histogram"
           }
          ],
          "histogram2d": [
           {
            "colorbar": {
             "outlinewidth": 0,
             "ticks": ""
            },
            "colorscale": [
             [
              0,
              "#0d0887"
             ],
             [
              0.1111111111111111,
              "#46039f"
             ],
             [
              0.2222222222222222,
              "#7201a8"
             ],
             [
              0.3333333333333333,
              "#9c179e"
             ],
             [
              0.4444444444444444,
              "#bd3786"
             ],
             [
              0.5555555555555556,
              "#d8576b"
             ],
             [
              0.6666666666666666,
              "#ed7953"
             ],
             [
              0.7777777777777778,
              "#fb9f3a"
             ],
             [
              0.8888888888888888,
              "#fdca26"
             ],
             [
              1,
              "#f0f921"
             ]
            ],
            "type": "histogram2d"
           }
          ],
          "histogram2dcontour": [
           {
            "colorbar": {
             "outlinewidth": 0,
             "ticks": ""
            },
            "colorscale": [
             [
              0,
              "#0d0887"
             ],
             [
              0.1111111111111111,
              "#46039f"
             ],
             [
              0.2222222222222222,
              "#7201a8"
             ],
             [
              0.3333333333333333,
              "#9c179e"
             ],
             [
              0.4444444444444444,
              "#bd3786"
             ],
             [
              0.5555555555555556,
              "#d8576b"
             ],
             [
              0.6666666666666666,
              "#ed7953"
             ],
             [
              0.7777777777777778,
              "#fb9f3a"
             ],
             [
              0.8888888888888888,
              "#fdca26"
             ],
             [
              1,
              "#f0f921"
             ]
            ],
            "type": "histogram2dcontour"
           }
          ],
          "mesh3d": [
           {
            "colorbar": {
             "outlinewidth": 0,
             "ticks": ""
            },
            "type": "mesh3d"
           }
          ],
          "parcoords": [
           {
            "line": {
             "colorbar": {
              "outlinewidth": 0,
              "ticks": ""
             }
            },
            "type": "parcoords"
           }
          ],
          "pie": [
           {
            "automargin": true,
            "type": "pie"
           }
          ],
          "scatter": [
           {
            "fillpattern": {
             "fillmode": "overlay",
             "size": 10,
             "solidity": 0.2
            },
            "type": "scatter"
           }
          ],
          "scatter3d": [
           {
            "line": {
             "colorbar": {
              "outlinewidth": 0,
              "ticks": ""
             }
            },
            "marker": {
             "colorbar": {
              "outlinewidth": 0,
              "ticks": ""
             }
            },
            "type": "scatter3d"
           }
          ],
          "scattercarpet": [
           {
            "marker": {
             "colorbar": {
              "outlinewidth": 0,
              "ticks": ""
             }
            },
            "type": "scattercarpet"
           }
          ],
          "scattergeo": [
           {
            "marker": {
             "colorbar": {
              "outlinewidth": 0,
              "ticks": ""
             }
            },
            "type": "scattergeo"
           }
          ],
          "scattergl": [
           {
            "marker": {
             "colorbar": {
              "outlinewidth": 0,
              "ticks": ""
             }
            },
            "type": "scattergl"
           }
          ],
          "scattermap": [
           {
            "marker": {
             "colorbar": {
              "outlinewidth": 0,
              "ticks": ""
             }
            },
            "type": "scattermap"
           }
          ],
          "scattermapbox": [
           {
            "marker": {
             "colorbar": {
              "outlinewidth": 0,
              "ticks": ""
             }
            },
            "type": "scattermapbox"
           }
          ],
          "scatterpolar": [
           {
            "marker": {
             "colorbar": {
              "outlinewidth": 0,
              "ticks": ""
             }
            },
            "type": "scatterpolar"
           }
          ],
          "scatterpolargl": [
           {
            "marker": {
             "colorbar": {
              "outlinewidth": 0,
              "ticks": ""
             }
            },
            "type": "scatterpolargl"
           }
          ],
          "scatterternary": [
           {
            "marker": {
             "colorbar": {
              "outlinewidth": 0,
              "ticks": ""
             }
            },
            "type": "scatterternary"
           }
          ],
          "surface": [
           {
            "colorbar": {
             "outlinewidth": 0,
             "ticks": ""
            },
            "colorscale": [
             [
              0,
              "#0d0887"
             ],
             [
              0.1111111111111111,
              "#46039f"
             ],
             [
              0.2222222222222222,
              "#7201a8"
             ],
             [
              0.3333333333333333,
              "#9c179e"
             ],
             [
              0.4444444444444444,
              "#bd3786"
             ],
             [
              0.5555555555555556,
              "#d8576b"
             ],
             [
              0.6666666666666666,
              "#ed7953"
             ],
             [
              0.7777777777777778,
              "#fb9f3a"
             ],
             [
              0.8888888888888888,
              "#fdca26"
             ],
             [
              1,
              "#f0f921"
             ]
            ],
            "type": "surface"
           }
          ],
          "table": [
           {
            "cells": {
             "fill": {
              "color": "#EBF0F8"
             },
             "line": {
              "color": "white"
             }
            },
            "header": {
             "fill": {
              "color": "#C8D4E3"
             },
             "line": {
              "color": "white"
             }
            },
            "type": "table"
           }
          ]
         },
         "layout": {
          "annotationdefaults": {
           "arrowcolor": "#2a3f5f",
           "arrowhead": 0,
           "arrowwidth": 1
          },
          "autotypenumbers": "strict",
          "coloraxis": {
           "colorbar": {
            "outlinewidth": 0,
            "ticks": ""
           }
          },
          "colorscale": {
           "diverging": [
            [
             0,
             "#8e0152"
            ],
            [
             0.1,
             "#c51b7d"
            ],
            [
             0.2,
             "#de77ae"
            ],
            [
             0.3,
             "#f1b6da"
            ],
            [
             0.4,
             "#fde0ef"
            ],
            [
             0.5,
             "#f7f7f7"
            ],
            [
             0.6,
             "#e6f5d0"
            ],
            [
             0.7,
             "#b8e186"
            ],
            [
             0.8,
             "#7fbc41"
            ],
            [
             0.9,
             "#4d9221"
            ],
            [
             1,
             "#276419"
            ]
           ],
           "sequential": [
            [
             0,
             "#0d0887"
            ],
            [
             0.1111111111111111,
             "#46039f"
            ],
            [
             0.2222222222222222,
             "#7201a8"
            ],
            [
             0.3333333333333333,
             "#9c179e"
            ],
            [
             0.4444444444444444,
             "#bd3786"
            ],
            [
             0.5555555555555556,
             "#d8576b"
            ],
            [
             0.6666666666666666,
             "#ed7953"
            ],
            [
             0.7777777777777778,
             "#fb9f3a"
            ],
            [
             0.8888888888888888,
             "#fdca26"
            ],
            [
             1,
             "#f0f921"
            ]
           ],
           "sequentialminus": [
            [
             0,
             "#0d0887"
            ],
            [
             0.1111111111111111,
             "#46039f"
            ],
            [
             0.2222222222222222,
             "#7201a8"
            ],
            [
             0.3333333333333333,
             "#9c179e"
            ],
            [
             0.4444444444444444,
             "#bd3786"
            ],
            [
             0.5555555555555556,
             "#d8576b"
            ],
            [
             0.6666666666666666,
             "#ed7953"
            ],
            [
             0.7777777777777778,
             "#fb9f3a"
            ],
            [
             0.8888888888888888,
             "#fdca26"
            ],
            [
             1,
             "#f0f921"
            ]
           ]
          },
          "colorway": [
           "#636efa",
           "#EF553B",
           "#00cc96",
           "#ab63fa",
           "#FFA15A",
           "#19d3f3",
           "#FF6692",
           "#B6E880",
           "#FF97FF",
           "#FECB52"
          ],
          "font": {
           "color": "#2a3f5f"
          },
          "geo": {
           "bgcolor": "white",
           "lakecolor": "white",
           "landcolor": "#E5ECF6",
           "showlakes": true,
           "showland": true,
           "subunitcolor": "white"
          },
          "hoverlabel": {
           "align": "left"
          },
          "hovermode": "closest",
          "mapbox": {
           "style": "light"
          },
          "paper_bgcolor": "white",
          "plot_bgcolor": "#E5ECF6",
          "polar": {
           "angularaxis": {
            "gridcolor": "white",
            "linecolor": "white",
            "ticks": ""
           },
           "bgcolor": "#E5ECF6",
           "radialaxis": {
            "gridcolor": "white",
            "linecolor": "white",
            "ticks": ""
           }
          },
          "scene": {
           "xaxis": {
            "backgroundcolor": "#E5ECF6",
            "gridcolor": "white",
            "gridwidth": 2,
            "linecolor": "white",
            "showbackground": true,
            "ticks": "",
            "zerolinecolor": "white"
           },
           "yaxis": {
            "backgroundcolor": "#E5ECF6",
            "gridcolor": "white",
            "gridwidth": 2,
            "linecolor": "white",
            "showbackground": true,
            "ticks": "",
            "zerolinecolor": "white"
           },
           "zaxis": {
            "backgroundcolor": "#E5ECF6",
            "gridcolor": "white",
            "gridwidth": 2,
            "linecolor": "white",
            "showbackground": true,
            "ticks": "",
            "zerolinecolor": "white"
           }
          },
          "shapedefaults": {
           "line": {
            "color": "#2a3f5f"
           }
          },
          "ternary": {
           "aaxis": {
            "gridcolor": "white",
            "linecolor": "white",
            "ticks": ""
           },
           "baxis": {
            "gridcolor": "white",
            "linecolor": "white",
            "ticks": ""
           },
           "bgcolor": "#E5ECF6",
           "caxis": {
            "gridcolor": "white",
            "linecolor": "white",
            "ticks": ""
           }
          },
          "title": {
           "x": 0.05
          },
          "xaxis": {
           "automargin": true,
           "gridcolor": "white",
           "linecolor": "white",
           "ticks": "",
           "title": {
            "standoff": 15
           },
           "zerolinecolor": "white",
           "zerolinewidth": 2
          },
          "yaxis": {
           "automargin": true,
           "gridcolor": "white",
           "linecolor": "white",
           "ticks": "",
           "title": {
            "standoff": 15
           },
           "zerolinecolor": "white",
           "zerolinewidth": 2
          }
         }
        }
       }
      }
     },
     "metadata": {},
     "output_type": "display_data"
    }
   ],
   "source": [
    "from matplotlib import pyplot as plt\n",
    "import plotly.express as px\n",
    "fig = px.scatter_3d(df, x='x', y='y', z='z', color='z')\n",
    "\n",
    "fig.show()"
   ]
  },
  {
   "cell_type": "markdown",
   "metadata": {},
   "source": [
    "a) Use idpettis.m to estimate the intrinsic dim"
   ]
  },
  {
   "cell_type": "code",
   "execution_count": 8,
   "metadata": {},
   "outputs": [
    {
     "name": "stdout",
     "output_type": "stream",
     "text": [
      "Help on function id_pettis in module pyEDAkit.IntrinsicDimensionality:\n",
      "\n",
      "id_pettis(X)\n",
      "    Estimate the intrinsic dimensionality using the Pettis,\n",
      "        Bailey, Jain, and Dubes algorithm.\n",
      "\n",
      "    Parameters:\n",
      "    X (array): Data matrix.\n",
      "\n",
      "    Returns:\n",
      "    float: Estimate of intrinsic dimensionality.\n",
      "\n"
     ]
    }
   ],
   "source": [
    "import pyEDAkit as kit\n",
    "help(kit.IntrinsicDimensionality.id_pettis)"
   ]
  },
  {
   "cell_type": "code",
   "execution_count": 12,
   "metadata": {},
   "outputs": [
    {
     "data": {
      "text/plain": [
       "np.float64(1.1185140237063393)"
      ]
     },
     "execution_count": 12,
     "metadata": {},
     "output_type": "execute_result"
    }
   ],
   "source": [
    "from pyEDAkit.IntrinsicDimensionality import id_pettis\n",
    "\n",
    "eid = id_pettis(df)\n",
    "eid"
   ]
  },
  {
   "cell_type": "markdown",
   "metadata": {},
   "source": [
    "b) Add noise of various sizes to your cuvre and thereafter study the intrinsic dim.\n",
    "\n",
    "for each point created, add some noise to it ($u$ * $\\sigma$)"
   ]
  },
  {
   "cell_type": "code",
   "execution_count": 42,
   "metadata": {},
   "outputs": [
    {
     "data": {
      "text/plain": [
       "'done'"
      ]
     },
     "execution_count": 42,
     "metadata": {},
     "output_type": "execute_result"
    }
   ],
   "source": [
    "noised_df_point01 = generate_random_numbers_from_these_functions(lamb = 0.01, seed = 1)\n",
    "noised_df_point05 = generate_random_numbers_from_these_functions(lamb = 0.05, seed = 1)\n",
    "noised_df_point1 = generate_random_numbers_from_these_functions(lamb = 0.1, seed = 1)\n",
    "noised_df_point5 = generate_random_numbers_from_these_functions(lamb = 0.5, seed = 1)\n",
    "noised_df_point1 = generate_random_numbers_from_these_functions(lamb = 1, seed = 1)\n",
    "\"done\""
   ]
  },
  {
   "cell_type": "code",
   "execution_count": 43,
   "metadata": {},
   "outputs": [
    {
     "data": {
      "application/vnd.plotly.v1+json": {
       "config": {
        "plotlyServerURL": "https://plot.ly"
       },
       "data": [
        {
         "marker": {
          "color": {
           "bdata": "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",
           "dtype": "f8"
          },
          "colorscale": [
           [
            0,
            "#440154"
           ],
           [
            0.1111111111111111,
            "#482878"
           ],
           [
            0.2222222222222222,
            "#3e4989"
           ],
           [
            0.3333333333333333,
            "#31688e"
           ],
           [
            0.4444444444444444,
            "#26828e"
           ],
           [
            0.5555555555555556,
            "#1f9e89"
           ],
           [
            0.6666666666666666,
            "#35b779"
           ],
           [
            0.7777777777777778,
            "#6ece58"
           ],
           [
            0.8888888888888888,
            "#b5de2b"
           ],
           [
            1,
            "#fde725"
           ]
          ],
          "size": 2
         },
         "mode": "markers",
         "scene": "scene",
         "type": "scatter3d",
         "x": {
          "bdata": "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",
          "dtype": "f8"
         },
         "y": {
          "bdata": "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",
          "dtype": "f8"
         },
         "z": {
          "bdata": "wKynjCqp8L/kY/KHNDMGQB7fhHS7GRnATltY+kTWA8DqA0yr7MARwJ0W7QK6eBTAxjhzvduAD8DcWMk6O+z+v6QwiYEOt/S/Si7+TgJ43z+zzJzmXjXwv45qkJnarAJAWsgmKuyhDcADsZESawMTQCFMdsgluRfANhdgu94nAUDPlUW3GZ7wvwM6jdMepec/1j+naukJEsAv79DRcEcOwEmqb0TdQQ5AmuY+KUeTF0Ao+GaPS7ACwEAd36WAXgNAe0y1mifwEkDd9wbdO9wTQOej/IcE2hTAfsJBXUYrF8BI9EEq5JUQwD0NEwMVAhNATaCwKY0pFMB3UW8bTIzvv3Hf10FmBxdAVXhtpyQs2z+vI4r/Hk0DQHuSHHHchgLAVTMIx8LFAkAvGDEQ9dMQQEw/oZW/NRjA0mFnUIM3CUAvK3S5jJMYQIoM64rGAAlAzUFY9wIQBsBvZrM+FxUNQMXQ9YL36xPAH05SJ7mp5L9L98NkmpIUQAV684eZuATAxWHS/z1VBcDygAL6k5ASwMHpouGDIBjACD2g7EgMAkAX0oOrze8MwJqmMaxUgQfAWdaIxLzPuL/T+g/Rqm4WwI4fiGCj++0/L8lRdrO8EcDFb1CyEBHyP8XNhtfzIgRAA+CHa9H3E8Cju/R6wyXxv1mO2TdtlQNAfbcu35Af8b/yPCrfS5wWwGdyJuTc+9w/xnW2HUWLAEByNcSSFObIPyshHnqwWxZAq3T+r/R+8T85avY1vlAUQMAK1aYiOBLAcdabZOwgEsBiZcf9rfMOQG1yDlKRifS/t5j83l/KEMBEStyR+4IVQPT1jYN8gP6/C/jpChc5CUCpT/tn/rkGQNH79SDFShNAqA0unmvu+D89xtrpBTwJQC3KCKFIUv6/S+/wfFoTB8D+dkDXMOgTQPCYJHIuoey/V/rKbEVnF0C5VGPvAoIAQNsZwvvOlfg/H8L/PEZZE8BRL1uboJ8WQNU/9omjDOS/TcLkgXmf7z/RAVczjV/yv/mPjAasYwrAcijpoatPFEAoJEJLsrXtP7Wjh2Iz9RjAxyBZtTW09z8iKzTZbm0BwMlI9NnsENY/FDdpVgRtE0BnWvMsDJD8v7lVnpvlihRAhZpbZKTw+D+WNZfZqVIYwFnlD5oenxVACNtIB3oxA0Crl6EcaAAZQNQUyL9CbhDAopFsJxU3EsAK5ysx5sIVQBaErGrDzANAyozL+AnKFcBW0zTyVa8JQLVlA/QejAlALfK31sZGFUBf/qjlOVAFQD4wVvoz3BLA30JrVoAZGMDMPZiIM8cXwLgztMj4rhfAfaRUBqd3CcB2+FzL6BwSQHHO4IEy2d8/S7NFAVBK5T8UUoIfaDoRQHoIgXXw4BLA29yD/q0nBsDI7H5KIFrxP5ggOJMpnRdA1688BmuY6D+c55l/0iwYwJT8KSRHSQ5AZt/uVPnJCsCVBUfPEuIOQHFz+ksgZ/a/PlJasfRKEkBI+k/hSusIQE8+dV/qyuY/4QytZzZFEsBKZ+PP4xwWwADN5YvK/xLABdhdC3bdFsBJpXRIlrETwHwiPC9ijAvAruZYRkh0BUC/KJ2nxDjoP8uw0YlTehjA6/HE/HKBFcBeeSfyQ4EXQFNveODWdus/kl5MmbTCDcCa1lFe69EIwMi0HaByhAhAf3fmjMiPDsAuI4NjN2nwP7cvPsKaphdAIGHYpJ9xEUBJSbgr7RkKwIdo7/a2F7O/8UaFSWsq+D/lrQOSppIQQJBBf5++NhHAiAyKPqksGMAMT0pDvpoVwDEDUS/pwsS/DJwyjrZ/9T8X+gH9We3rP501mPsCWALA86DF4v6XGEA3GQj1dxLwPxOQOSF8//e/uWTHugW35D/XLfruHLkIQAEj8qZbCwFAyEefrnOSB8A5Udw2JMMVwHncYUzyBvq/7vgG94AY+j+jUNyRTCANwBHEDOQNawlAU7yZJQbIFcCjlNd/7BUIwBVlLLAUsw5ArMyyHvLQDsD9nXFPNBT8P8wFzRpVZ9Q/eUAP3mFkFUDZTmnEYL8HwEBOIT4zxxXAaZLixYeiB0AgeLBALnALQOMMaXryghRA6VwoRci+FUCMe4UPJ2YYwATS5D/TogrAze57rpSN9z/l4fCWdJsWQOIteJ59oxZAJrk8mKMU5z8xP2HdWOoUQM0ETQAKn/w/JT5ddysc9r956LtuEZvFv/U92BM4EPU/e6QFdPwU5D+lKQ/PvW4VQGJ8juOXDxVAihWcqLoY9b/Wo+mYfUsXQNlq34pWWxDAMHwfzDvDEsCkNbCr71YSwMwp0GxHNLQ/u6VcaokHGMDNCCYhCYwWQGcXfmuWdhBAO6OCY59cGMCBNEN5mDwQwOqXxtJr4QDApK2dg8SCEsC7gqUBGDAPQGNecSmuJ/+/7PdCr3shFkDqbZ/tyJbwP+r7y1ueDBNAEahAT0FcEUCxmjeBLGMUQLShW1lACuC/CIx6GSXu4j/Ngbn7VBcOQCXAi2fCfwXAIcER7zwlvb+k2ua91PvzP6ina73hTxjAZ5hl4mzd8j8X/PSZc5Pqv2QDokAP5w5AayqOupN+AsAH0ashcMQTQHBM928Wi+8/bNqGqSq3D8DKA5BI7wANQP9qxr+LiPY/X6kzottiFsDlqYC1ocvvv+aQnq/OCwJAd5xXQ2wUFUAcLqJ47hkZwPh3INcV/RdAr1U5ombA+L+aRe9rD9cXQI87Veo+GvU/T417UfePEEB5/ZzTyxDuP+Y0c+EIwvk/stbFq2GNBcDeEoO7onvxP+VY/32jKglA7CzudI0MEkCJFnexC6cJQEw6BuNy9gNAFu4Qx4JXEkDinn4JPMwBwOINtIt3LwFAFGqq6CWv47/sGI5SmLL3vwKPnXV+0fG/K7XOSD+087+WnRh9tFICwFbpjhndoPg/Pw5laZgD7L8dPiX3etoXQA9M0Os68QFA2PzmFxZADsB2YO/Tolrtv3ZphWgybv+/nriOkuL1DUCpB4SkYSMTQE4Rdnx3VRRA7A79eIhlAEAkovL+iw4HwIQOA+wk0wjAGBs1xIjgEUDt9Kop0rLWP6mjYa25bw5A3q+ltwpD7T94AEiz8IIHQCGt1lWyps8/TtgaMcFGC0CU/IeqkvfrP0qoNVepCNu/QbleJft//7/BHOyU7bIVwI0F1J+Ddfi/Pxup3CEYFcA9X3stxEwYQPOrgUlf+Q/AkCez6v9tD0Bef9aIj9sSQIwB4XHS9wJAfRauPi5A7D/oa3BwUwIRwFnkcI55D9q/CkxNj84g/7/v19zxkpwLwGIIyIVno/I/v653WFnZAsD8q33Oj/QUQESoEfGWnhRA02fKBVRhCMA35VjPS4sTwNZqZQvq0Q7AgC1uvCpCHT+UNfbSIwYHQPO1RhtISQ3AGK4DsXxMCcDp7UMINLURQKoQ6hki4fC/puETUduQ9z/sHuwLrrIKwJcI9JnVARTAqtHRK41uyj/BLFx+hlDSvxXnBRnXbxHAxnY/ZEWX+D9y4beQd8bhP7K7j4MqI/8/GxL3P5rXEcD8t2TxC04JQNkjqf2M4QvA7EzvsipDzz9OoQaRurkMQBj6pYqpARjAt3qI3kucAcAJdG6QV8ESQITFE3dcWhFAyoSkIrdf3z+lwiSb3nISQAaSNvLRohZAmDqjfoVwEEDW8wZ3A9URQJU6+3wCJRTAQh88RGR+/j9q2omcDX4EQP23KvEgTvY/VpruxUUtDkCcvyUROmMXwEvFJzhuNgtA5f3d3FxeB0ATwkZpTCUIwDNaNQi7WgjA+i7cFn67+j83N1+bXwb/vwPQExnB0Q1Agw0Cu9Kb5b+YPAXFtn8MQEE/nz3TpxhAdChlVioNBMBHSULycusRwGNNBAAKLhRA+/f9iKUG4T8H5vH4id4XQH8JRBJjjfs/jD7es/vZGEBIhohCn5niPwzrNdUqjdU/ptVew0VOEsDpjZoxtuP8v5IsV24byhfAFpPuFjwNEcDeofseXL8IQETArDUolhfAybLltr2/+r8NNMLvZj0SQM/ot1dzYgNAQfx8WDZCA0Aupue230APwOq6EKdHDOe/nX+fmQxw8D/QEzi14aIYQC8ITLDnsQ3ApChCoQJQCcCglAEa1NkHwA57WhTkLglA+INCiQ8V4b8u/UtsujsWwPxyrLS96Ls/amiL9W/kDMBlSo2TthgOQHHyCACRXwTAPfOLe4u8F8DtXyL88s3yP8P0Mm9iUBFAzKzzev7o978e4OtiyDIJQJmA08tya8I/kHKOhuLB4D+n/tZE6hkXQByF3I++lw5AM/pbGmZ5F8Ap8glV9xgFQHa+FtgI2tu/Ray5AEuEFkBdB0MDb/ULwPMSK4qZYQfAUggMgJgHFcAM5BcJ6Krsv4qHlW2VpRPANQ2vE2fo+j9SI+hAe4AOQF7lL1w02gNAVZYYK43KCkBAlTMEGKr/v5WUm4DDZhFADPpcbX1z7L9VqdAMtE0QQLNjsO4ykPk/xrxkN8biEcDTxtLjZCgVwCSJEnjeLhjAxGkwEo3CFcAnS2Xym2/gv1h6DVhdbxPA+nyD82eyF8DWoIPhnqIJQLN5tsse//S/3VKQgLjjCECILWmAE+Livwb03l45/OO/z/eMU7B+0b8MNq96AqLUvxXMULOViw5Az8HNJZeN87+rJBDBEGEUQEGC1lh4QRfA2bErYhiVC0AUm/nQMMcSwK4sRCB47vc/A5FeHyacGMA77JYS0lzfP6zkyQy49xjAw4B4C2WzFkCNAtZHnWMUQIw+nM58ww1AY1Gr/JPmFEBqCKZ098kRwK5ksP1vKxHA0GR4lmBkD8APbCl9zcH4PwmaA2xobhRA/ypDlVinGEDk5uUFoT0FQLXjgMrzUgdAe7eHMA6XFEA8OdhLBdjzv6UUD/ULHAnAtreleYBlEMD0OXF7NhgTwJ9dBZokfw9AenWhBLO4EcB85vSfC6AHwFXYZALgDxBAMBDDHfj2AsD7og/v8EUYQDjm5IVmaQfArAftLR1F2z84puiS6ZgCwMSnxYhXphRA6j2v4BDP+r+za6wnlanqv/8ET4WEnMQ/nl9o3l4RFkCPq7nbPJAXwNcMTyB7zgVAsX7Q1QKqE0DwKEoj+rgXwI4wUeF9D9I/HvgOMTh7AcApkiJGQBcSQPr6Zvkz1ec/PsTLdmsxA0AA9slHUdXiv0hsVmfu1/k/MHNLrnMKBcBB/kfXOKcYwLhw+QVe8u4/Y204lO/yAsBHMGp0huHMP7wEGr7h8hRATZJ4tu9i7b/ZWZjJ6FUJwMTbceIfwPm/3yo/bcG5FUDT9DfqffcVQFl4YLpPVxFASVe0/oQfFUCH87VqWUcLwA==",
          "dtype": "f8"
         }
        },
        {
         "marker": {
          "color": {
           "bdata": "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",
           "dtype": "f8"
          },
          "colorscale": [
           [
            0,
            "#440154"
           ],
           [
            0.1111111111111111,
            "#482878"
           ],
           [
            0.2222222222222222,
            "#3e4989"
           ],
           [
            0.3333333333333333,
            "#31688e"
           ],
           [
            0.4444444444444444,
            "#26828e"
           ],
           [
            0.5555555555555556,
            "#1f9e89"
           ],
           [
            0.6666666666666666,
            "#35b779"
           ],
           [
            0.7777777777777778,
            "#6ece58"
           ],
           [
            0.8888888888888888,
            "#b5de2b"
           ],
           [
            1,
            "#fde725"
           ]
          ],
          "size": 2
         },
         "mode": "markers",
         "scene": "scene2",
         "type": "scatter3d",
         "x": {
          "bdata": "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",
          "dtype": "f8"
         },
         "y": {
          "bdata": "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",
          "dtype": "f8"
         },
         "z": {
          "bdata": "jsEUvLSR8L9mnxxzAWcGQOzqdQ2f/hjAWCyCsrqyA8B8W3VDfr4RwJnOw3CLZBTA6gGbLMFaD8A7jd3QDWj+v8YQJF0BjfS/WeuItkQ84D89hyxZBQ7wvxZollwW5QJAcezTzdRQDcCfAFuOrwoTQLu/KEqAlxfAfpvC6co6AUCbQLcImpTwv9HRk5mb0uc/eJEfoJvjEcBl7Li9pv4NwP525X+PWQ5AUdEJMBm6F0C7G5Y5q2oCwGBNBwUcggNAp0SqdVMDE0Aym9tZCPYTQKqTgnKL0xTAlBnlXKsqF8BC4NwRBIsQwJ8cQvO2AhNA11Okh+wNFMAyqFyMl9fuv0x2gvuSFBdAK0im4nQr3T+ZHR1XEFkDQP1mMezMcgLAGZqXCrXdAkC7fAGP+9sQQF3pBXslMhjAygB1Cch+CUAt8gtzKZcYQNRh1fzIOAlA9yEP+iUGBsB5Wome9xUNQJEXciEk1RPAOu2wVHuA47/ITIvv2LUUQA4i67DfnATAypT3bwRTBcBcRIxbxm8SwGXfToSA/xfASlCycG5TAkCs/bQp8rgMwLvqclIoPwfAfZlpu/89r79Xu5AQFFwWwGaitidtsu4/BXXqSvinEcAHlemacILyP9rc2m/lWgRAeew/iYHiE8Dxk/MBB57wvxujQS7cvgNAES/Py2uY8L+9dQSDwJAWwIMD2lrXcN0/8F+wxrjaAEC8HrcqjrLMPzhfIpdUZhZAtsP1di/e8T++gIzc3ncUQFAmtuLTNBLAatkteYAdEsC6R5gwZiYPQNCYrmHJZPS/InbxVQirEMD03boUQZoVQIQ+Z49WE/6/GetiEOxBCUDrKCvz5cAGQPYWjf9fZBNA+cAY/owx+T9Bdka7K0MJQC9OQxR9Ff6/WHsemUrcBsB41Q3P9O8TQBLGAT6re+u/SzZHSS2OF0DvhqqSyNAAQNnHh91sDfk/QjbO/qFIE8BGJedhF74WQKgz0nJFruO/0FsqXkAD8D+mCrMQSPzxv/ulUS3xMgrAm12CD6lzFECKltrAHwnuP49CTFHR1RjAcwZdqmJO+D9oVbAvWW0BwC5L31nvSNc/80Od5+2HE0CFKOSi4AX8v927WEFskhRASxctUOp8+T+CC3QzvUMYwG8lp8WqwxVA+neOL78zA0DNYQp+5wMZQP5hH+oPRhDAQ3smEB4eEsBAUHdiAdQVQMwVaRig2gNActirQ2uvFcD+0pdeXbIJQEvuePilpQlAeneTwwZUFUD6Y37g/IEFQKQqfISLwRLA2sPlz9j2F8B+L3YkNaEXwKe5/WHrkxfADO+91klICcCuN0ChPS0SQJp4KJZWKeE/2NZKGs185T+Tjt3JEV8RQLszKEAz1BLAFh4jWL/6BcCJEy454MnxP3komyPZphdAFcYezGHP6D+u+pat/hcYwFaD+bolig5ApmEYWUCRCsAJi4Tc0esOQGOzFm6M0/W/fBoUG5teEkAosAgh2DgJQOxbzcFDgOc/VvGEMb1BEsBAtFDVmBQWwIG7TDbN3BLAU0QF3IvAFsD7Snkp7owTwKrfF35rcQvA5MFCRImfBUDb6CcB5A3pP+HQdPL7YRjA3s4u7Pd3FcCXaf19v5IXQD8Hl/kjyOs/VOCJxG59DcB0VB8+F4EIwGbZZLfmiQhANmD2ZExVDsDUhENwTZ/wP9x7jew4wBdAl6pYVDJ8EUCTBzuNmOQJwEQrVJyMla6/pi6c+Lha+D9It6UZ/7cQQCqlWM4jEBHAgki6tIcTGMD7jbln9ZEVwOZ7hQkx57+//m3M26r69T8VQc33d+PsPxRRVd2qRgLASH86tf+5GEDihx5HzjnwP+8xHQkAmPe/3ITS4uqf5T/Rt6rX7fUIQLPonxhUKwFAv9EV/TRUB8AlHsE+KJ4VwMwC9B20pvm/9CX1BVEn+j/JelG/uxUNwDXP72etcwlAw8LY9/LAFcDkGSsNkQsIwCuRQtfW8g5A3efAmbfNDsAyQDMByDv8P77UP/lvp9Y/Rlja80GMFUB8zMElyI0HwAI0fqQ2nxXAvsWSBBemB0DgPvZD470LQI4DeKeyjxRArYWLG4LfFUD9Upf/8kQYwKytnMVfXArAYzdTsrXY9z+Qc3Uak8EWQMmdrdINrhZA3IRjkNZG6D9Ulv3NtAMVQCBOgY5+QP0/O72FSNIW9r/bqg7hk+TBv7gWNSThbPU/hjLr+Ve25D/4tmroW3kVQFDw/vT6HBVA4q+PdNvv9L/sQ7rJeFQXQCQ1qH2VOhDAtkjMzaeuEsDs/4dch1MSwP1zlbAYKbw/xvQHs63xF8B3jCAsUqoWQFQm57ayixBAtXLYpj1MGMA//TbtMhQQwCgCXYgb3wDATPGQxo9cEsDGijNzWXwPQE5Xvdeh5/6/nTEEg0QqFkCiTsidPPzwP2unpYjoExNAP+bUjid9EUB3nrgxk20UQAVkdoXrVd+/6HFMr0Ua5D8jKJCFTGEOQCsRRafmUwXApvjvfltPtL8GSIkHlzX0P1o6NSoCJxjAEeeDJnsk8z8TFTb62DLqvyYRmiB36g5ADHHOEYAtAsCDMOfUetcTQMj+gvLlPfA/hZjK86uCD8AQJLGmKzwNQEkT7X7rkPY/mFQfQiw9FsBZvOeh7Jvuv64aW9wGOQJAiX1ap+c7FUCtTFtwbA4ZwALSK86/FRhAqxqByHF/+L8j6vW4yPAXQEuG81iAS/U/hRTm6YaxEEB8GBfmqSfuPyDtb1rlyPk/4b7zwFWJBcBX8RNGSZTxP8cTsZcGSwlAxZRncq8zEkCe5vM9H7AJQEocpQ5/KwRAFLBESh9tEkBDnsQBTK8BwBifthW0PwFApF3UIt1m4788Xq1Qaqv3v+oOwzGmXPG/B2YgPR9J8797qyn2WS4CwHz3h5unFvk/W6he9Y7f67/HMz0m7gAYQCvTDvGqNgJA6VUlHRkKDsDO1ogqgN7sv9CrU1XyKf+/ZnW3EmIdDkB8xsTNsEkTQPjQJerWeBRAi9AdQ6+MAECMym3mHuEGwCcWUF9uiwjAytWEhmoHEkAjs+SRt1XYP44YQEkLrQ5AVHsDJ0O27T+aVEomJc4HQJMiz92499E/tJSMpPpzC0BkuPuC4BPtP7MF2H+w29i/5S+G6of7/r8QDgsrk60VwH8vAQyyHfi/UidmdzzzFMDY12vvVmwYQBnQt0ro1g/AEf8Vjhu+D0C8jucU1eUSQMs1KMImEwNAsNSLYtp47T9n3bRxM+EQwD7HsZFtwde/84AIdege/781bBa1dn0LwGnBiAf+yfI/Z2lBIxvBAsDCIhFAyhIVQC0shoU/vBRAW+MVY387CMDtgC6hVXwTwCF3MywEog7A5CoFA5f5lT/0I3ZQPjMHQIZP6Z3cFg3ActiGWBMsCcCV60oW0NQRQGN/ReD5t/C/DUG16kv89z+pbv4OAWQKwEE+t1OwARTAVKdl3Kwizj+Ea0wpGAnSv1ITlxKRWRHAXGm4J/z9+D+7eoRyExbiPzy/dOfjuP8/97B91By+EcBs0svuBmEJQN8m9iV2ogvAGrIYAHXNzz/H1EF8NucMQPqt49rF/RfA4ycLwLNsAcAlKcBAtMsSQKXFQ572dBFAevkUfGua4D+hNzAXV4gSQARfzY7AvRZA9g+uf9WREEDEmkbYFvYRQLnczKagCxTALCwK4EzI/j8wfV3xeJ8EQLJaN4Ry3fY/7tfuUdtmDkBmEvrhplsXwHmNfXvGZAtAiqfW8s+oB0DQbIo29BgIwKKuwD13FQjAUUvI399B+z8DdR+5j7T+vw7410nV1A1ArwDTUn1r5b9mi8vnS8sMQLYIwDyiqRhAFereeKbuA8Czg2TYF9IRwPgVYiYbNhRAhkZaeCBI4j894sV97eQXQJzof9vO5fs/K4FiBUzzGEBJ1egZUOXiP7yjy3/EvtY/ouJiKik6EsDvXYmnEWb8v6vU6IMgsBfAEaHQeBX6EMD0QX/r/vUIQBib6TOWgxfAbNuqxZtp+r8QUOKFYFgSQD2bBElLcQNAF/VM8cSCA0AU5ES2fA8PwFE7qV4Ly+W/r0X7BnyU8D/vUcHd+rUYQHmu+7eIaA3Aqwk6qL0eCcBjNSGkW54HwCT8Il/HUAlAuoAHfNM04L/Y1ylR+hQWwO1p5EyE9b0/1glKSEyiDMBKoh5DI2gOQDV6wHhfXgTAISi22LqzF8CxKjghLuHyP3GyBHTRbxFA7CSAArDb978YIOaikoQJQPscJ+UeasQ/rqPvb4Dq4T9hXP2loyEXQM4adlLcuw5AaY3mm8tWF8Cd1lYLu0kFQA3q+pQnq9q/AyJphkqZFkCbvczCa8YLwHA7bGCHPQfA6hst46r/FMBdbQDlj4Xsv3gpNbBjnxPAadMdtQDx+j97zAyMP64OQATzuVumHwRAWLhdcvjnCkAvLt0/wZ3/v4DV34szeBFAWup4WTmu67/LOIy6IF8QQN96pgsHFfo/2OjA0jG8EcAJUd82wwQVwP0Xz38IEhjAMjUgoUmvFcBGRB4rzh/fvzmtjKTQbhPAbGjl6ymKF8AMqKeat7AJQPGXznqjavS/34ra0tYlCUAKCYfr4tvhv32jAWEZpOO/DfRDaxDv0L/8oiip/YjTvyq8sE0q0Q5Amzo328xD87+txU9YYYcUQO9DejwGMxfAqx2K+tXHC0CTdwtxBZ8SwHRHfebkV/g/QpQGCkmaGMCUqAUGT0bgP2Igfu0B6hjAwO5vXzHJFkAymJ4PR28UQA6Tl8+AzQ1AxnhDgfMBFUAoyHvhDq4RwJjcWmDrBxHA8gy9WIhZD8AZP20NpkT5P1ZzcrhFkBRAZNqHJtTBGEDFfkqNak4FQIvtRi5eaAdA7+JecjKoFEDNHZmYQH/zv8RvjVvv9AjAEPSNzVpSEMA8wzMd0PUSwCphhvhrxg9ALOtmuz6XEcACkXnLIlgHwDgqXnhDJxBAYE8u0P6nAsAY7SUDyV4YQKYKJtLsNwfAG2RPc14W3D/L/cqvG2ECwOTgGm94qBRA0Ut9lwW5+r9BDmym537qv3zEU5dN98c/h/w/XY0YFkCI1LGsQ4IXwOEXs2gc0gVAHbi1t5WzE0Dvj1ODe5EXwEZyJUwpXdM/uNHp7dduAcAP3XhqrCwSQEOcI0dfCuk/NcUxN1Z4A0DiPl1p2FTivxjTlKtwBvo/oOE7DA3MBMA9WxYuX50YwBb0N5SsRe8/yToLKQzsAsCxw3eMFqfQP5MjmU06BRVAgj5jqtmq7L/D+8HWjhkJwKTYWrigPfm/9KHC4xXMFUBPFt2hCP8VQGeUL59BeRFAPyI4CMogFUCB+gMWy/kKwA==",
          "dtype": "f8"
         }
        },
        {
         "marker": {
          "color": {
           "bdata": "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",
           "dtype": "f8"
          },
          "colorscale": [
           [
            0,
            "#440154"
           ],
           [
            0.1111111111111111,
            "#482878"
           ],
           [
            0.2222222222222222,
            "#3e4989"
           ],
           [
            0.3333333333333333,
            "#31688e"
           ],
           [
            0.4444444444444444,
            "#26828e"
           ],
           [
            0.5555555555555556,
            "#1f9e89"
           ],
           [
            0.6666666666666666,
            "#35b779"
           ],
           [
            0.7777777777777778,
            "#6ece58"
           ],
           [
            0.8888888888888888,
            "#b5de2b"
           ],
           [
            1,
            "#fde725"
           ]
          ],
          "size": 2
         },
         "mode": "markers",
         "scene": "scene3",
         "type": "scatter3d",
         "x": {
          "bdata": "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",
          "dtype": "f8"
         },
         "y": {
          "bdata": "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",
          "dtype": "f8"
         },
         "z": {
          "bdata": "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",
          "dtype": "f8"
         }
        },
        {
         "marker": {
          "color": {
           "bdata": "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",
           "dtype": "f8"
          },
          "colorscale": [
           [
            0,
            "#440154"
           ],
           [
            0.1111111111111111,
            "#482878"
           ],
           [
            0.2222222222222222,
            "#3e4989"
           ],
           [
            0.3333333333333333,
            "#31688e"
           ],
           [
            0.4444444444444444,
            "#26828e"
           ],
           [
            0.5555555555555556,
            "#1f9e89"
           ],
           [
            0.6666666666666666,
            "#35b779"
           ],
           [
            0.7777777777777778,
            "#6ece58"
           ],
           [
            0.8888888888888888,
            "#b5de2b"
           ],
           [
            1,
            "#fde725"
           ]
          ],
          "size": 2
         },
         "mode": "markers",
         "scene": "scene4",
         "type": "scatter3d",
         "x": {
          "bdata": "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",
          "dtype": "f8"
         },
         "y": {
          "bdata": "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",
          "dtype": "f8"
         },
         "z": {
          "bdata": "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",
          "dtype": "f8"
         }
        },
        {
         "marker": {
          "color": {
           "bdata": "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",
           "dtype": "f8"
          },
          "colorscale": [
           [
            0,
            "#440154"
           ],
           [
            0.1111111111111111,
            "#482878"
           ],
           [
            0.2222222222222222,
            "#3e4989"
           ],
           [
            0.3333333333333333,
            "#31688e"
           ],
           [
            0.4444444444444444,
            "#26828e"
           ],
           [
            0.5555555555555556,
            "#1f9e89"
           ],
           [
            0.6666666666666666,
            "#35b779"
           ],
           [
            0.7777777777777778,
            "#6ece58"
           ],
           [
            0.8888888888888888,
            "#b5de2b"
           ],
           [
            1,
            "#fde725"
           ]
          ],
          "size": 2
         },
         "mode": "markers",
         "scene": "scene5",
         "type": "scatter3d",
         "x": {
          "bdata": "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",
          "dtype": "f8"
         },
         "y": {
          "bdata": "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",
          "dtype": "f8"
         },
         "z": {
          "bdata": "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",
          "dtype": "f8"
         }
        }
       ],
       "layout": {
        "annotations": [
         {
          "font": {
           "size": 16
          },
          "showarrow": false,
          "text": "lamb = 0.1",
          "x": 0.08399999999999999,
          "xanchor": "center",
          "xref": "paper",
          "y": 1,
          "yanchor": "bottom",
          "yref": "paper"
         },
         {
          "font": {
           "size": 16
          },
          "showarrow": false,
          "text": "lamb = 0.5",
          "x": 0.292,
          "xanchor": "center",
          "xref": "paper",
          "y": 1,
          "yanchor": "bottom",
          "yref": "paper"
         },
         {
          "font": {
           "size": 16
          },
          "showarrow": false,
          "text": "lamb = 1",
          "x": 0.5,
          "xanchor": "center",
          "xref": "paper",
          "y": 1,
          "yanchor": "bottom",
          "yref": "paper"
         },
         {
          "font": {
           "size": 16
          },
          "showarrow": false,
          "text": "lamb = 2",
          "x": 0.708,
          "xanchor": "center",
          "xref": "paper",
          "y": 1,
          "yanchor": "bottom",
          "yref": "paper"
         }
        ],
        "scene": {
         "domain": {
          "x": [
           0,
           0.16799999999999998
          ],
          "y": [
           0,
           1
          ]
         }
        },
        "scene2": {
         "domain": {
          "x": [
           0.208,
           0.376
          ],
          "y": [
           0,
           1
          ]
         }
        },
        "scene3": {
         "domain": {
          "x": [
           0.416,
           0.584
          ],
          "y": [
           0,
           1
          ]
         }
        },
        "scene4": {
         "domain": {
          "x": [
           0.624,
           0.792
          ],
          "y": [
           0,
           1
          ]
         }
        },
        "scene5": {
         "domain": {
          "x": [
           0.832,
           1
          ],
          "y": [
           0,
           1
          ]
         }
        },
        "template": {
         "data": {
          "bar": [
           {
            "error_x": {
             "color": "#2a3f5f"
            },
            "error_y": {
             "color": "#2a3f5f"
            },
            "marker": {
             "line": {
              "color": "#E5ECF6",
              "width": 0.5
             },
             "pattern": {
              "fillmode": "overlay",
              "size": 10,
              "solidity": 0.2
             }
            },
            "type": "bar"
           }
          ],
          "barpolar": [
           {
            "marker": {
             "line": {
              "color": "#E5ECF6",
              "width": 0.5
             },
             "pattern": {
              "fillmode": "overlay",
              "size": 10,
              "solidity": 0.2
             }
            },
            "type": "barpolar"
           }
          ],
          "carpet": [
           {
            "aaxis": {
             "endlinecolor": "#2a3f5f",
             "gridcolor": "white",
             "linecolor": "white",
             "minorgridcolor": "white",
             "startlinecolor": "#2a3f5f"
            },
            "baxis": {
             "endlinecolor": "#2a3f5f",
             "gridcolor": "white",
             "linecolor": "white",
             "minorgridcolor": "white",
             "startlinecolor": "#2a3f5f"
            },
            "type": "carpet"
           }
          ],
          "choropleth": [
           {
            "colorbar": {
             "outlinewidth": 0,
             "ticks": ""
            },
            "type": "choropleth"
           }
          ],
          "contour": [
           {
            "colorbar": {
             "outlinewidth": 0,
             "ticks": ""
            },
            "colorscale": [
             [
              0,
              "#0d0887"
             ],
             [
              0.1111111111111111,
              "#46039f"
             ],
             [
              0.2222222222222222,
              "#7201a8"
             ],
             [
              0.3333333333333333,
              "#9c179e"
             ],
             [
              0.4444444444444444,
              "#bd3786"
             ],
             [
              0.5555555555555556,
              "#d8576b"
             ],
             [
              0.6666666666666666,
              "#ed7953"
             ],
             [
              0.7777777777777778,
              "#fb9f3a"
             ],
             [
              0.8888888888888888,
              "#fdca26"
             ],
             [
              1,
              "#f0f921"
             ]
            ],
            "type": "contour"
           }
          ],
          "contourcarpet": [
           {
            "colorbar": {
             "outlinewidth": 0,
             "ticks": ""
            },
            "type": "contourcarpet"
           }
          ],
          "heatmap": [
           {
            "colorbar": {
             "outlinewidth": 0,
             "ticks": ""
            },
            "colorscale": [
             [
              0,
              "#0d0887"
             ],
             [
              0.1111111111111111,
              "#46039f"
             ],
             [
              0.2222222222222222,
              "#7201a8"
             ],
             [
              0.3333333333333333,
              "#9c179e"
             ],
             [
              0.4444444444444444,
              "#bd3786"
             ],
             [
              0.5555555555555556,
              "#d8576b"
             ],
             [
              0.6666666666666666,
              "#ed7953"
             ],
             [
              0.7777777777777778,
              "#fb9f3a"
             ],
             [
              0.8888888888888888,
              "#fdca26"
             ],
             [
              1,
              "#f0f921"
             ]
            ],
            "type": "heatmap"
           }
          ],
          "histogram": [
           {
            "marker": {
             "pattern": {
              "fillmode": "overlay",
              "size": 10,
              "solidity": 0.2
             }
            },
            "type": "histogram"
           }
          ],
          "histogram2d": [
           {
            "colorbar": {
             "outlinewidth": 0,
             "ticks": ""
            },
            "colorscale": [
             [
              0,
              "#0d0887"
             ],
             [
              0.1111111111111111,
              "#46039f"
             ],
             [
              0.2222222222222222,
              "#7201a8"
             ],
             [
              0.3333333333333333,
              "#9c179e"
             ],
             [
              0.4444444444444444,
              "#bd3786"
             ],
             [
              0.5555555555555556,
              "#d8576b"
             ],
             [
              0.6666666666666666,
              "#ed7953"
             ],
             [
              0.7777777777777778,
              "#fb9f3a"
             ],
             [
              0.8888888888888888,
              "#fdca26"
             ],
             [
              1,
              "#f0f921"
             ]
            ],
            "type": "histogram2d"
           }
          ],
          "histogram2dcontour": [
           {
            "colorbar": {
             "outlinewidth": 0,
             "ticks": ""
            },
            "colorscale": [
             [
              0,
              "#0d0887"
             ],
             [
              0.1111111111111111,
              "#46039f"
             ],
             [
              0.2222222222222222,
              "#7201a8"
             ],
             [
              0.3333333333333333,
              "#9c179e"
             ],
             [
              0.4444444444444444,
              "#bd3786"
             ],
             [
              0.5555555555555556,
              "#d8576b"
             ],
             [
              0.6666666666666666,
              "#ed7953"
             ],
             [
              0.7777777777777778,
              "#fb9f3a"
             ],
             [
              0.8888888888888888,
              "#fdca26"
             ],
             [
              1,
              "#f0f921"
             ]
            ],
            "type": "histogram2dcontour"
           }
          ],
          "mesh3d": [
           {
            "colorbar": {
             "outlinewidth": 0,
             "ticks": ""
            },
            "type": "mesh3d"
           }
          ],
          "parcoords": [
           {
            "line": {
             "colorbar": {
              "outlinewidth": 0,
              "ticks": ""
             }
            },
            "type": "parcoords"
           }
          ],
          "pie": [
           {
            "automargin": true,
            "type": "pie"
           }
          ],
          "scatter": [
           {
            "fillpattern": {
             "fillmode": "overlay",
             "size": 10,
             "solidity": 0.2
            },
            "type": "scatter"
           }
          ],
          "scatter3d": [
           {
            "line": {
             "colorbar": {
              "outlinewidth": 0,
              "ticks": ""
             }
            },
            "marker": {
             "colorbar": {
              "outlinewidth": 0,
              "ticks": ""
             }
            },
            "type": "scatter3d"
           }
          ],
          "scattercarpet": [
           {
            "marker": {
             "colorbar": {
              "outlinewidth": 0,
              "ticks": ""
             }
            },
            "type": "scattercarpet"
           }
          ],
          "scattergeo": [
           {
            "marker": {
             "colorbar": {
              "outlinewidth": 0,
              "ticks": ""
             }
            },
            "type": "scattergeo"
           }
          ],
          "scattergl": [
           {
            "marker": {
             "colorbar": {
              "outlinewidth": 0,
              "ticks": ""
             }
            },
            "type": "scattergl"
           }
          ],
          "scattermap": [
           {
            "marker": {
             "colorbar": {
              "outlinewidth": 0,
              "ticks": ""
             }
            },
            "type": "scattermap"
           }
          ],
          "scattermapbox": [
           {
            "marker": {
             "colorbar": {
              "outlinewidth": 0,
              "ticks": ""
             }
            },
            "type": "scattermapbox"
           }
          ],
          "scatterpolar": [
           {
            "marker": {
             "colorbar": {
              "outlinewidth": 0,
              "ticks": ""
             }
            },
            "type": "scatterpolar"
           }
          ],
          "scatterpolargl": [
           {
            "marker": {
             "colorbar": {
              "outlinewidth": 0,
              "ticks": ""
             }
            },
            "type": "scatterpolargl"
           }
          ],
          "scatterternary": [
           {
            "marker": {
             "colorbar": {
              "outlinewidth": 0,
              "ticks": ""
             }
            },
            "type": "scatterternary"
           }
          ],
          "surface": [
           {
            "colorbar": {
             "outlinewidth": 0,
             "ticks": ""
            },
            "colorscale": [
             [
              0,
              "#0d0887"
             ],
             [
              0.1111111111111111,
              "#46039f"
             ],
             [
              0.2222222222222222,
              "#7201a8"
             ],
             [
              0.3333333333333333,
              "#9c179e"
             ],
             [
              0.4444444444444444,
              "#bd3786"
             ],
             [
              0.5555555555555556,
              "#d8576b"
             ],
             [
              0.6666666666666666,
              "#ed7953"
             ],
             [
              0.7777777777777778,
              "#fb9f3a"
             ],
             [
              0.8888888888888888,
              "#fdca26"
             ],
             [
              1,
              "#f0f921"
             ]
            ],
            "type": "surface"
           }
          ],
          "table": [
           {
            "cells": {
             "fill": {
              "color": "#EBF0F8"
             },
             "line": {
              "color": "white"
             }
            },
            "header": {
             "fill": {
              "color": "#C8D4E3"
             },
             "line": {
              "color": "white"
             }
            },
            "type": "table"
           }
          ]
         },
         "layout": {
          "annotationdefaults": {
           "arrowcolor": "#2a3f5f",
           "arrowhead": 0,
           "arrowwidth": 1
          },
          "autotypenumbers": "strict",
          "coloraxis": {
           "colorbar": {
            "outlinewidth": 0,
            "ticks": ""
           }
          },
          "colorscale": {
           "diverging": [
            [
             0,
             "#8e0152"
            ],
            [
             0.1,
             "#c51b7d"
            ],
            [
             0.2,
             "#de77ae"
            ],
            [
             0.3,
             "#f1b6da"
            ],
            [
             0.4,
             "#fde0ef"
            ],
            [
             0.5,
             "#f7f7f7"
            ],
            [
             0.6,
             "#e6f5d0"
            ],
            [
             0.7,
             "#b8e186"
            ],
            [
             0.8,
             "#7fbc41"
            ],
            [
             0.9,
             "#4d9221"
            ],
            [
             1,
             "#276419"
            ]
           ],
           "sequential": [
            [
             0,
             "#0d0887"
            ],
            [
             0.1111111111111111,
             "#46039f"
            ],
            [
             0.2222222222222222,
             "#7201a8"
            ],
            [
             0.3333333333333333,
             "#9c179e"
            ],
            [
             0.4444444444444444,
             "#bd3786"
            ],
            [
             0.5555555555555556,
             "#d8576b"
            ],
            [
             0.6666666666666666,
             "#ed7953"
            ],
            [
             0.7777777777777778,
             "#fb9f3a"
            ],
            [
             0.8888888888888888,
             "#fdca26"
            ],
            [
             1,
             "#f0f921"
            ]
           ],
           "sequentialminus": [
            [
             0,
             "#0d0887"
            ],
            [
             0.1111111111111111,
             "#46039f"
            ],
            [
             0.2222222222222222,
             "#7201a8"
            ],
            [
             0.3333333333333333,
             "#9c179e"
            ],
            [
             0.4444444444444444,
             "#bd3786"
            ],
            [
             0.5555555555555556,
             "#d8576b"
            ],
            [
             0.6666666666666666,
             "#ed7953"
            ],
            [
             0.7777777777777778,
             "#fb9f3a"
            ],
            [
             0.8888888888888888,
             "#fdca26"
            ],
            [
             1,
             "#f0f921"
            ]
           ]
          },
          "colorway": [
           "#636efa",
           "#EF553B",
           "#00cc96",
           "#ab63fa",
           "#FFA15A",
           "#19d3f3",
           "#FF6692",
           "#B6E880",
           "#FF97FF",
           "#FECB52"
          ],
          "font": {
           "color": "#2a3f5f"
          },
          "geo": {
           "bgcolor": "white",
           "lakecolor": "white",
           "landcolor": "#E5ECF6",
           "showlakes": true,
           "showland": true,
           "subunitcolor": "white"
          },
          "hoverlabel": {
           "align": "left"
          },
          "hovermode": "closest",
          "mapbox": {
           "style": "light"
          },
          "paper_bgcolor": "white",
          "plot_bgcolor": "#E5ECF6",
          "polar": {
           "angularaxis": {
            "gridcolor": "white",
            "linecolor": "white",
            "ticks": ""
           },
           "bgcolor": "#E5ECF6",
           "radialaxis": {
            "gridcolor": "white",
            "linecolor": "white",
            "ticks": ""
           }
          },
          "scene": {
           "xaxis": {
            "backgroundcolor": "#E5ECF6",
            "gridcolor": "white",
            "gridwidth": 2,
            "linecolor": "white",
            "showbackground": true,
            "ticks": "",
            "zerolinecolor": "white"
           },
           "yaxis": {
            "backgroundcolor": "#E5ECF6",
            "gridcolor": "white",
            "gridwidth": 2,
            "linecolor": "white",
            "showbackground": true,
            "ticks": "",
            "zerolinecolor": "white"
           },
           "zaxis": {
            "backgroundcolor": "#E5ECF6",
            "gridcolor": "white",
            "gridwidth": 2,
            "linecolor": "white",
            "showbackground": true,
            "ticks": "",
            "zerolinecolor": "white"
           }
          },
          "shapedefaults": {
           "line": {
            "color": "#2a3f5f"
           }
          },
          "ternary": {
           "aaxis": {
            "gridcolor": "white",
            "linecolor": "white",
            "ticks": ""
           },
           "baxis": {
            "gridcolor": "white",
            "linecolor": "white",
            "ticks": ""
           },
           "bgcolor": "#E5ECF6",
           "caxis": {
            "gridcolor": "white",
            "linecolor": "white",
            "ticks": ""
           }
          },
          "title": {
           "x": 0.05
          },
          "xaxis": {
           "automargin": true,
           "gridcolor": "white",
           "linecolor": "white",
           "ticks": "",
           "title": {
            "standoff": 15
           },
           "zerolinecolor": "white",
           "zerolinewidth": 2
          },
          "yaxis": {
           "automargin": true,
           "gridcolor": "white",
           "linecolor": "white",
           "ticks": "",
           "title": {
            "standoff": 15
           },
           "zerolinecolor": "white",
           "zerolinewidth": 2
          }
         }
        },
        "title": {
         "text": "3D Scatter Plots with Different Noise Levels"
        }
       }
      }
     },
     "metadata": {},
     "output_type": "display_data"
    }
   ],
   "source": [
    "# plot these\n",
    "import plotly.graph_objects as go\n",
    "from plotly.subplots import make_subplots\n",
    "\n",
    "fig = make_subplots(rows=1, cols=5, specs=[[{'type':'scatter3d'}, {'type':'scatter3d'},\n",
    "                                            {'type':'scatter3d'}, {'type':'scatter3d'}, {'type':'scatter3d'}]],\n",
    "                    subplot_titles=(\"lamb = 0.1\", \"lamb = 0.5\", \"lamb = 1\", \"lamb = 2\"))\n",
    "fig.add_trace(go.Scatter3d(x=noised_df_point01['x'], y=noised_df_point01['y'], z=noised_df_point01['z'],\n",
    "                             mode='markers', marker=dict(size=2, color=noised_df_point01['z'], colorscale='Viridis')),\n",
    "              row=1, col=1)\n",
    "fig.add_trace(go.Scatter3d(x=noised_df_point05['x'], y=noised_df_point05['y'], z=noised_df_point05['z'],\n",
    "                             mode='markers', marker=dict(size=2, color=noised_df_point05['z'], colorscale='Viridis')),\n",
    "              row=1, col=2)\n",
    "fig.add_trace(go.Scatter3d(x=noised_df_point1['x'], y=noised_df_point1['y'], z=noised_df_point1['z'],\n",
    "                             mode='markers', marker=dict(size=2, color=noised_df_point1['z'], colorscale='Viridis')),\n",
    "              row=1, col=3)\n",
    "fig.add_trace(go.Scatter3d(x=noised_df_point5['x'], y=noised_df_point5['y'], z=noised_df_point5['z'],\n",
    "                             mode='markers', marker=dict(size=2, color=noised_df_point5['z'], colorscale='Viridis')),\n",
    "              row=1, col=4)\n",
    "fig.add_trace(go.Scatter3d(x=noised_df_point1['x'], y=noised_df_point1['y'], z=noised_df_point1['z'],\n",
    "                             mode='markers', marker=dict(size=2, color=noised_df_point1['z'], colorscale='Viridis')),\n",
    "              row=1, col=5)\n",
    "\n",
    "fig.update_layout(title_text=\"3D Scatter Plots with Different Noise Levels\")\n",
    "fig.show()"
   ]
  },
  {
   "cell_type": "code",
   "execution_count": 50,
   "metadata": {},
   "outputs": [
    {
     "data": {
      "image/png": "[encoded data removed]"
     },
     "metadata": {
      "image/png": {
       "height": 480,
       "width": 640
      }
     },
     "output_type": "display_data"
    }
   ],
   "source": [
    "# make from 0.1 to 2 noised dfs and calculate their eid\n",
    "lambdas = np.array(range(1, 100, 1))*0.01\n",
    "eids = []\n",
    "np.random.seed(1)\n",
    "for lamb in lambdas:\n",
    "  noised_df = generate_random_numbers_from_these_functions(lamb = lamb)\n",
    "  eid = id_pettis(noised_df)\n",
    "  eids.append(eid)\n",
    "noise_df = pd.DataFrame({'sigma': lambdas, 'eid': eids})\n",
    "# plot noise_df\n",
    "from plotnine import *\n",
    "(\n",
    "  ggplot(noise_df, aes(x='sigma', y='eid')) \n",
    "  + geom_point()\n",
    "  + geom_smooth(method = \"loess\")\n",
    "  + labs(x='noise', y='Estimate Intrinsic Dimensionality')\n",
    ")"
   ]
  },
  {
   "cell_type": "markdown",
   "metadata": {},
   "source": [
    "c) Is there any threshold number of noise size for intrinsic dim estimate ?"
   ]
  }
 ],
 "metadata": {
  "kernelspec": {
   "display_name": "default",
   "language": "python",
   "name": "python3"
  },
  "language_info": {
   "codemirror_mode": {
    "name": "ipython",
    "version": 3
   },
   "file_extension": ".py",
   "mimetype": "text/x-python",
   "name": "python",
   "nbconvert_exporter": "python",
   "pygments_lexer": "ipython3",
   "version": "3.13.2"
  }
 },
 "nbformat": 4,
 "nbformat_minor": 2
}
